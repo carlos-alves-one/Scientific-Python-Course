{
 "cells": [
  {
   "cell_type": "markdown",
   "id": "a440e052",
   "metadata": {},
   "source": [
    "## Goldsmiths University of London\n",
    "**Author....: Carlos Manuel de Oliveira Alves**<br>\n",
    "**Student..: cdeol003**<br>\n",
    "**Created..: 19/07/2022**"
   ]
  },
  {
   "cell_type": "code",
   "execution_count": 1,
   "id": "bf3229f9",
   "metadata": {},
   "outputs": [
    {
     "name": "stdout",
     "output_type": "stream",
     "text": [
      "Hello World!\n"
     ]
    }
   ],
   "source": [
    "print(\"Hello World!\")"
   ]
  },
  {
   "cell_type": "markdown",
   "id": "f27da198",
   "metadata": {},
   "source": [
    "# This is a markdown cell\n",
    "\n",
    "with e.g. (abbreviation for example) Latex\n",
    "\n",
    "$f(x) = \\sqrt(x)$"
   ]
  },
  {
   "cell_type": "code",
   "execution_count": 2,
   "id": "2eb0197e",
   "metadata": {},
   "outputs": [],
   "source": [
    "# assign a variable text\n",
    "text = 'Hello World'"
   ]
  },
  {
   "cell_type": "code",
   "execution_count": 3,
   "id": "a175efab",
   "metadata": {},
   "outputs": [
    {
     "data": {
      "text/plain": [
       "str"
      ]
     },
     "execution_count": 3,
     "metadata": {},
     "output_type": "execute_result"
    }
   ],
   "source": [
    "# to find the the type of the variable\n",
    "type(text)"
   ]
  },
  {
   "cell_type": "code",
   "execution_count": 4,
   "id": "e18b2ab1",
   "metadata": {},
   "outputs": [],
   "source": [
    "# assign an integer variable\n",
    "integer = 2"
   ]
  },
  {
   "cell_type": "code",
   "execution_count": 5,
   "id": "98da205a",
   "metadata": {},
   "outputs": [
    {
     "data": {
      "text/plain": [
       "int"
      ]
     },
     "execution_count": 5,
     "metadata": {},
     "output_type": "execute_result"
    }
   ],
   "source": [
    "type(integer)"
   ]
  },
  {
   "cell_type": "code",
   "execution_count": 6,
   "id": "7554df73",
   "metadata": {},
   "outputs": [],
   "source": [
    "# assign an float number variable\n",
    "floating_number = 42.0"
   ]
  },
  {
   "cell_type": "code",
   "execution_count": 7,
   "id": "01faea14",
   "metadata": {},
   "outputs": [
    {
     "data": {
      "text/plain": [
       "float"
      ]
     },
     "execution_count": 7,
     "metadata": {},
     "output_type": "execute_result"
    }
   ],
   "source": [
    "type(floating_number)"
   ]
  },
  {
   "cell_type": "code",
   "execution_count": 8,
   "id": "4144012a",
   "metadata": {},
   "outputs": [],
   "source": [
    "# reassign the variable text to a float number\n",
    "text = 3.0"
   ]
  },
  {
   "cell_type": "code",
   "execution_count": 9,
   "id": "67af5dd3",
   "metadata": {},
   "outputs": [
    {
     "data": {
      "text/plain": [
       "float"
      ]
     },
     "execution_count": 9,
     "metadata": {},
     "output_type": "execute_result"
    }
   ],
   "source": [
    "type(text)"
   ]
  },
  {
   "cell_type": "code",
   "execution_count": 10,
   "id": "5b973318",
   "metadata": {},
   "outputs": [
    {
     "name": "stdout",
     "output_type": "stream",
     "text": [
      "This is not true\n"
     ]
    }
   ],
   "source": [
    "# working with conditional statements\n",
    "if 5 < 3:\n",
    "    print('This is true')\n",
    "else:\n",
    "     print('This is not true') "
   ]
  },
  {
   "cell_type": "code",
   "execution_count": 11,
   "id": "00adc4e3",
   "metadata": {},
   "outputs": [
    {
     "name": "stdout",
     "output_type": "stream",
     "text": [
      "This is true\n"
     ]
    }
   ],
   "source": [
    "if 3 < 5:\n",
    "    print('This is true')\n",
    "else:\n",
    "     print('This is not true') "
   ]
  },
  {
   "cell_type": "code",
   "execution_count": 12,
   "id": "a77a4244",
   "metadata": {},
   "outputs": [],
   "source": [
    "# create a variable type string called something\n",
    "something = 'Hello World'"
   ]
  },
  {
   "cell_type": "code",
   "execution_count": 13,
   "id": "5e5464c7",
   "metadata": {},
   "outputs": [
    {
     "name": "stdout",
     "output_type": "stream",
     "text": [
      "It must be a string\n"
     ]
    }
   ],
   "source": [
    "# working with variables type none\n",
    "if something is None:\n",
    "    print('This is None')\n",
    "elif type(something) is not str:\n",
    "    print('It most be somthing else')\n",
    "else:\n",
    "    print('It must be a string')"
   ]
  },
  {
   "cell_type": "code",
   "execution_count": 14,
   "id": "08ace298",
   "metadata": {},
   "outputs": [
    {
     "name": "stdout",
     "output_type": "stream",
     "text": [
      "Hello World\n",
      "Hello World\n",
      "Hello World\n",
      "Hello World\n",
      "Hello World\n"
     ]
    }
   ],
   "source": [
    "# create a for loop range\n",
    "for i in range(5):\n",
    "    print(\"Hello World\")"
   ]
  },
  {
   "cell_type": "code",
   "execution_count": 15,
   "id": "6b70f4dc",
   "metadata": {},
   "outputs": [
    {
     "name": "stdout",
     "output_type": "stream",
     "text": [
      "Hello World 0\n",
      "Hello World 1\n",
      "Hello World 2\n",
      "Hello World 3\n",
      "Hello World 4\n"
     ]
    }
   ],
   "source": [
    "# create a for loop range with formatted string\n",
    "for i in range(5):\n",
    "    print(f\"Hello World {i}\")\n",
    "\n",
    "# using the opening and closing curly brackets its called string interpolation\n",
    "# and it means putting a variable inside the string"
   ]
  },
  {
   "cell_type": "code",
   "execution_count": 16,
   "id": "56e83667",
   "metadata": {},
   "outputs": [
    {
     "name": "stdout",
     "output_type": "stream",
     "text": [
      "Hello World 00000\n",
      "Hello World 00001\n",
      "Hello World 00002\n",
      "Hello World 00003\n",
      "Hello World 00004\n"
     ]
    }
   ],
   "source": [
    "# create a for loop range with formatted string\n",
    "for i in range(5):\n",
    "    print(f\"Hello World {i:05d}\") # using the format specifier after the colon (the symbol :)"
   ]
  },
  {
   "cell_type": "code",
   "execution_count": 17,
   "id": "69b535a9",
   "metadata": {},
   "outputs": [
    {
     "name": "stdout",
     "output_type": "stream",
     "text": [
      "5\n",
      "4\n",
      "3\n"
     ]
    }
   ],
   "source": [
    "# using while loops\n",
    "b = 5\n",
    "while b > 2:\n",
    "    print(b)\n",
    "    b -= 1"
   ]
  },
  {
   "cell_type": "code",
   "execution_count": 18,
   "id": "14446644",
   "metadata": {},
   "outputs": [],
   "source": [
    "# define a function with no arguments\n",
    "def say_hi():\n",
    "    print(\"Hello\")"
   ]
  },
  {
   "cell_type": "code",
   "execution_count": 19,
   "id": "53aeb289",
   "metadata": {},
   "outputs": [
    {
     "name": "stdout",
     "output_type": "stream",
     "text": [
      "Hello\n"
     ]
    }
   ],
   "source": [
    "# call the function created\n",
    "say_hi()"
   ]
  },
  {
   "cell_type": "code",
   "execution_count": 20,
   "id": "1ae7b47e",
   "metadata": {},
   "outputs": [],
   "source": [
    "def greeting():\n",
    "    name = input(\"What is your name? \") # create a local variable with data from user\n",
    "    print(f\"Hello {name}\")\n",
    "    return name"
   ]
  },
  {
   "cell_type": "code",
   "execution_count": 21,
   "id": "bb6af455",
   "metadata": {},
   "outputs": [
    {
     "name": "stdout",
     "output_type": "stream",
     "text": [
      "What is your name? Carlos\n",
      "Hello Carlos\n"
     ]
    }
   ],
   "source": [
    "# create a variable to store the result of a function\n",
    "returned_name = greeting()"
   ]
  },
  {
   "cell_type": "code",
   "execution_count": 22,
   "id": "a192b8b7",
   "metadata": {},
   "outputs": [
    {
     "data": {
      "text/plain": [
       "'Carlos'"
      ]
     },
     "execution_count": 22,
     "metadata": {},
     "output_type": "execute_result"
    }
   ],
   "source": [
    "returned_name"
   ]
  },
  {
   "cell_type": "code",
   "execution_count": 23,
   "id": "2e7d20fa",
   "metadata": {},
   "outputs": [],
   "source": [
    "# declare a function with an argument \n",
    "def add_two(variable):\n",
    "    variable += 2\n",
    "    return variable"
   ]
  },
  {
   "cell_type": "code",
   "execution_count": 24,
   "id": "70ef3308",
   "metadata": {},
   "outputs": [],
   "source": [
    "b = 2"
   ]
  },
  {
   "cell_type": "code",
   "execution_count": 26,
   "id": "cc7c9dd8",
   "metadata": {},
   "outputs": [],
   "source": [
    "b_add_two = add_two(b)"
   ]
  },
  {
   "cell_type": "code",
   "execution_count": 27,
   "id": "60a793b3",
   "metadata": {},
   "outputs": [
    {
     "data": {
      "text/plain": [
       "4"
      ]
     },
     "execution_count": 27,
     "metadata": {},
     "output_type": "execute_result"
    }
   ],
   "source": [
    "b_add_two"
   ]
  },
  {
   "cell_type": "code",
   "execution_count": 28,
   "id": "e3aa3b78",
   "metadata": {},
   "outputs": [
    {
     "data": {
      "text/plain": [
       "2"
      ]
     },
     "execution_count": 28,
     "metadata": {},
     "output_type": "execute_result"
    }
   ],
   "source": [
    "b"
   ]
  },
  {
   "cell_type": "code",
   "execution_count": 30,
   "id": "8c98e9cd",
   "metadata": {},
   "outputs": [
    {
     "data": {
      "text/plain": [
       "['In',\n",
       " 'Out',\n",
       " '_',\n",
       " '_22',\n",
       " '_27',\n",
       " '_28',\n",
       " '_29',\n",
       " '_3',\n",
       " '_5',\n",
       " '_7',\n",
       " '_9',\n",
       " '__',\n",
       " '___',\n",
       " '__builtin__',\n",
       " '__builtins__',\n",
       " '__doc__',\n",
       " '__loader__',\n",
       " '__name__',\n",
       " '__package__',\n",
       " '__spec__',\n",
       " '_dh',\n",
       " '_i',\n",
       " '_i1',\n",
       " '_i10',\n",
       " '_i11',\n",
       " '_i12',\n",
       " '_i13',\n",
       " '_i14',\n",
       " '_i15',\n",
       " '_i16',\n",
       " '_i17',\n",
       " '_i18',\n",
       " '_i19',\n",
       " '_i2',\n",
       " '_i20',\n",
       " '_i21',\n",
       " '_i22',\n",
       " '_i23',\n",
       " '_i24',\n",
       " '_i25',\n",
       " '_i26',\n",
       " '_i27',\n",
       " '_i28',\n",
       " '_i29',\n",
       " '_i3',\n",
       " '_i30',\n",
       " '_i4',\n",
       " '_i5',\n",
       " '_i6',\n",
       " '_i7',\n",
       " '_i8',\n",
       " '_i9',\n",
       " '_ih',\n",
       " '_ii',\n",
       " '_iii',\n",
       " '_oh',\n",
       " 'add_two',\n",
       " 'b',\n",
       " 'b_add_two',\n",
       " 'exit',\n",
       " 'floating_number',\n",
       " 'get_ipython',\n",
       " 'greeting',\n",
       " 'i',\n",
       " 'integer',\n",
       " 'quit',\n",
       " 'returned_name',\n",
       " 'say_hi',\n",
       " 'something',\n",
       " 'text']"
      ]
     },
     "execution_count": 30,
     "metadata": {},
     "output_type": "execute_result"
    }
   ],
   "source": [
    "dir()"
   ]
  },
  {
   "cell_type": "code",
   "execution_count": null,
   "id": "38920b90",
   "metadata": {},
   "outputs": [],
   "source": []
  }
 ],
 "metadata": {
  "kernelspec": {
   "display_name": "Python 3 (ipykernel)",
   "language": "python",
   "name": "python3"
  },
  "language_info": {
   "codemirror_mode": {
    "name": "ipython",
    "version": 3
   },
   "file_extension": ".py",
   "mimetype": "text/x-python",
   "name": "python",
   "nbconvert_exporter": "python",
   "pygments_lexer": "ipython3",
   "version": "3.9.12"
  }
 },
 "nbformat": 4,
 "nbformat_minor": 5
}
