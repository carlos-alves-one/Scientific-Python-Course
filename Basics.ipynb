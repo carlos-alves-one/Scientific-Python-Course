{
 "cells": [
  {
   "cell_type": "markdown",
   "id": "0c8ad983",
   "metadata": {},
   "source": [
    "## Goldsmiths University of London\n",
    "**Author....: Carlos Manuel de Oliveira Alves**<br>\n",
    "**Student..: cdeol003**<br>\n",
    "**Created..: 19/07/2022**"
   ]
  },
  {
   "cell_type": "code",
   "execution_count": null,
   "id": "d1966e7a",
   "metadata": {},
   "outputs": [],
   "source": [
    "print(\"Hello World\")"
   ]
  }
 ],
 "metadata": {
  "kernelspec": {
   "display_name": "Python 3 (ipykernel)",
   "language": "python",
   "name": "python3"
  },
  "language_info": {
   "codemirror_mode": {
    "name": "ipython",
    "version": 3
   },
   "file_extension": ".py",
   "mimetype": "text/x-python",
   "name": "python",
   "nbconvert_exporter": "python",
   "pygments_lexer": "ipython3",
   "version": "3.9.12"
  }
 },
 "nbformat": 4,
 "nbformat_minor": 5
}
