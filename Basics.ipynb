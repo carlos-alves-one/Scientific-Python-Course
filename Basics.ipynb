{
 "cells": [
  {
   "cell_type": "markdown",
   "id": "a440e052",
   "metadata": {},
   "source": [
    "## Goldsmiths University of London\n",
    "**Author....: Carlos Manuel de Oliveira Alves**<br>\n",
    "**Student..: cdeol003**<br>\n",
    "**Created..: 19/07/2022**"
   ]
  },
  {
   "cell_type": "code",
   "execution_count": 1,
   "id": "bf3229f9",
   "metadata": {},
   "outputs": [
    {
     "name": "stdout",
     "output_type": "stream",
     "text": [
      "Hello World!\n"
     ]
    }
   ],
   "source": [
    "print(\"Hello World!\")"
   ]
  },
  {
   "cell_type": "markdown",
   "id": "f27da198",
   "metadata": {},
   "source": [
    "# This is a markdown cell\n",
    "\n",
    "with e.g. (abbreviation for example) Latex\n",
    "\n",
    "$f(x) = \\sqrt(x)$"
   ]
  },
  {
   "cell_type": "code",
   "execution_count": 2,
   "id": "2eb0197e",
   "metadata": {},
   "outputs": [],
   "source": [
    "# assign a variable text\n",
    "text = 'Hello World'"
   ]
  },
  {
   "cell_type": "code",
   "execution_count": 3,
   "id": "a175efab",
   "metadata": {},
   "outputs": [
    {
     "data": {
      "text/plain": [
       "str"
      ]
     },
     "execution_count": 3,
     "metadata": {},
     "output_type": "execute_result"
    }
   ],
   "source": [
    "# to find the the type of the variable\n",
    "type(text)"
   ]
  },
  {
   "cell_type": "code",
   "execution_count": 4,
   "id": "e18b2ab1",
   "metadata": {},
   "outputs": [],
   "source": [
    "# assign an integer variable\n",
    "integer = 2"
   ]
  },
  {
   "cell_type": "code",
   "execution_count": 5,
   "id": "98da205a",
   "metadata": {},
   "outputs": [
    {
     "data": {
      "text/plain": [
       "int"
      ]
     },
     "execution_count": 5,
     "metadata": {},
     "output_type": "execute_result"
    }
   ],
   "source": [
    "type(integer)"
   ]
  },
  {
   "cell_type": "code",
   "execution_count": 6,
   "id": "7554df73",
   "metadata": {},
   "outputs": [],
   "source": [
    "# assign an float number variable\n",
    "floating_number = 42.0"
   ]
  },
  {
   "cell_type": "code",
   "execution_count": 7,
   "id": "01faea14",
   "metadata": {},
   "outputs": [
    {
     "data": {
      "text/plain": [
       "float"
      ]
     },
     "execution_count": 7,
     "metadata": {},
     "output_type": "execute_result"
    }
   ],
   "source": [
    "type(floating_number)"
   ]
  },
  {
   "cell_type": "code",
   "execution_count": 8,
   "id": "4144012a",
   "metadata": {},
   "outputs": [],
   "source": [
    "# reassign the variable text to a float number\n",
    "text = 3.0"
   ]
  },
  {
   "cell_type": "code",
   "execution_count": 9,
   "id": "67af5dd3",
   "metadata": {},
   "outputs": [
    {
     "data": {
      "text/plain": [
       "float"
      ]
     },
     "execution_count": 9,
     "metadata": {},
     "output_type": "execute_result"
    }
   ],
   "source": [
    "type(text)"
   ]
  },
  {
   "cell_type": "code",
   "execution_count": 10,
   "id": "5b973318",
   "metadata": {},
   "outputs": [
    {
     "name": "stdout",
     "output_type": "stream",
     "text": [
      "This is not true\n"
     ]
    }
   ],
   "source": [
    "# working with conditional statements\n",
    "if 5 < 3:\n",
    "    print('This is true')\n",
    "else:\n",
    "     print('This is not true') "
   ]
  },
  {
   "cell_type": "code",
   "execution_count": 11,
   "id": "00adc4e3",
   "metadata": {},
   "outputs": [
    {
     "name": "stdout",
     "output_type": "stream",
     "text": [
      "This is true\n"
     ]
    }
   ],
   "source": [
    "if 3 < 5:\n",
    "    print('This is true')\n",
    "else:\n",
    "     print('This is not true') "
   ]
  },
  {
   "cell_type": "code",
   "execution_count": 12,
   "id": "a77a4244",
   "metadata": {},
   "outputs": [],
   "source": [
    "# create a variable type string called something\n",
    "something = 'Hello World'"
   ]
  },
  {
   "cell_type": "code",
   "execution_count": 13,
   "id": "5e5464c7",
   "metadata": {},
   "outputs": [
    {
     "name": "stdout",
     "output_type": "stream",
     "text": [
      "It must be a string\n"
     ]
    }
   ],
   "source": [
    "# working with variables type none\n",
    "if something is None:\n",
    "    print('This is None')\n",
    "elif type(something) is not str:\n",
    "    print('It most be somthing else')\n",
    "else:\n",
    "    print('It must be a string')"
   ]
  },
  {
   "cell_type": "code",
   "execution_count": 14,
   "id": "08ace298",
   "metadata": {},
   "outputs": [
    {
     "name": "stdout",
     "output_type": "stream",
     "text": [
      "Hello World\n",
      "Hello World\n",
      "Hello World\n",
      "Hello World\n",
      "Hello World\n"
     ]
    }
   ],
   "source": [
    "# create a for loop range\n",
    "for i in range(5):\n",
    "    print(\"Hello World\")"
   ]
  },
  {
   "cell_type": "code",
   "execution_count": 15,
   "id": "0d9a46fc",
   "metadata": {},
   "outputs": [
    {
     "name": "stdout",
     "output_type": "stream",
     "text": [
      "Hello World 0\n",
      "Hello World 1\n",
      "Hello World 2\n",
      "Hello World 3\n",
      "Hello World 4\n"
     ]
    }
   ],
   "source": [
    "# create a for loop range with formatted string\n",
    "for i in range(5):\n",
    "    print(f\"Hello World {i}\")\n",
    "\n",
    "# using the opening and closing curly brackets its called string interpolation\n",
    "# and it means putting a variable inside the string"
   ]
  },
  {
   "cell_type": "code",
   "execution_count": 16,
   "id": "1eeba430",
   "metadata": {},
   "outputs": [
    {
     "name": "stdout",
     "output_type": "stream",
     "text": [
      "Hello World 00000\n",
      "Hello World 00001\n",
      "Hello World 00002\n",
      "Hello World 00003\n",
      "Hello World 00004\n"
     ]
    }
   ],
   "source": [
    "# create a for loop range with formatted string\n",
    "for i in range(5):\n",
    "    print(f\"Hello World {i:05d}\") # using the format specifier after the colon (the symbol :)"
   ]
  },
  {
   "cell_type": "code",
   "execution_count": 17,
   "id": "64f13376",
   "metadata": {},
   "outputs": [
    {
     "name": "stdout",
     "output_type": "stream",
     "text": [
      "5\n",
      "4\n",
      "3\n"
     ]
    }
   ],
   "source": [
    "# using while loops\n",
    "b = 5\n",
    "while b > 2:\n",
    "    print(b)\n",
    "    b -= 1"
   ]
  },
  {
   "cell_type": "code",
   "execution_count": 18,
   "id": "b614d218",
   "metadata": {},
   "outputs": [],
   "source": [
    "# define a function with no arguments\n",
    "def say_hi():\n",
    "    print(\"Hello\")"
   ]
  },
  {
   "cell_type": "code",
   "execution_count": 19,
   "id": "65e54e97",
   "metadata": {},
   "outputs": [
    {
     "name": "stdout",
     "output_type": "stream",
     "text": [
      "Hello\n"
     ]
    }
   ],
   "source": [
    "# call the function created\n",
    "say_hi()"
   ]
  },
  {
   "cell_type": "code",
   "execution_count": 20,
   "id": "b39d560d",
   "metadata": {},
   "outputs": [],
   "source": [
    "def greeting():\n",
    "    name = input(\"What is your name? \") # create a local variable with data from user\n",
    "    print(f\"Hello {name}\")\n",
    "    return name"
   ]
  },
  {
   "cell_type": "code",
   "execution_count": 21,
   "id": "af37b8a7",
   "metadata": {},
   "outputs": [
    {
     "name": "stdout",
     "output_type": "stream",
     "text": [
      "What is your name? Carlos\n",
      "Hello Carlos\n"
     ]
    }
   ],
   "source": [
    "# create a variable to store the result of a function\n",
    "returned_name = greeting()"
   ]
  },
  {
   "cell_type": "code",
   "execution_count": 22,
   "id": "5c91d491",
   "metadata": {},
   "outputs": [
    {
     "data": {
      "text/plain": [
       "'Carlos'"
      ]
     },
     "execution_count": 22,
     "metadata": {},
     "output_type": "execute_result"
    }
   ],
   "source": [
    "returned_name"
   ]
  },
  {
   "cell_type": "code",
   "execution_count": 23,
   "id": "71886b21",
   "metadata": {},
   "outputs": [],
   "source": [
    "# declare a function with an argument \n",
    "def add_two(variable):\n",
    "    variable += 2\n",
    "    return variable"
   ]
  },
  {
   "cell_type": "code",
   "execution_count": 24,
   "id": "56689d60",
   "metadata": {},
   "outputs": [],
   "source": [
    "b = 2"
   ]
  },
  {
   "cell_type": "code",
   "execution_count": 25,
   "id": "48bd6166",
   "metadata": {},
   "outputs": [],
   "source": [
    "b_add_two = add_two(b)"
   ]
  },
  {
   "cell_type": "code",
   "execution_count": 26,
   "id": "926abf35",
   "metadata": {},
   "outputs": [
    {
     "data": {
      "text/plain": [
       "4"
      ]
     },
     "execution_count": 26,
     "metadata": {},
     "output_type": "execute_result"
    }
   ],
   "source": [
    "b_add_two"
   ]
  },
  {
   "cell_type": "code",
   "execution_count": 27,
   "id": "7adc0eb7",
   "metadata": {},
   "outputs": [
    {
     "data": {
      "text/plain": [
       "2"
      ]
     },
     "execution_count": 27,
     "metadata": {},
     "output_type": "execute_result"
    }
   ],
   "source": [
    "b"
   ]
  },
  {
   "cell_type": "code",
   "execution_count": 28,
   "id": "fb0f6fc8",
   "metadata": {},
   "outputs": [
    {
     "data": {
      "text/plain": [
       "['In',\n",
       " 'Out',\n",
       " '_',\n",
       " '_22',\n",
       " '_26',\n",
       " '_27',\n",
       " '_3',\n",
       " '_5',\n",
       " '_7',\n",
       " '_9',\n",
       " '__',\n",
       " '___',\n",
       " '__builtin__',\n",
       " '__builtins__',\n",
       " '__doc__',\n",
       " '__loader__',\n",
       " '__name__',\n",
       " '__package__',\n",
       " '__spec__',\n",
       " '_dh',\n",
       " '_i',\n",
       " '_i1',\n",
       " '_i10',\n",
       " '_i11',\n",
       " '_i12',\n",
       " '_i13',\n",
       " '_i14',\n",
       " '_i15',\n",
       " '_i16',\n",
       " '_i17',\n",
       " '_i18',\n",
       " '_i19',\n",
       " '_i2',\n",
       " '_i20',\n",
       " '_i21',\n",
       " '_i22',\n",
       " '_i23',\n",
       " '_i24',\n",
       " '_i25',\n",
       " '_i26',\n",
       " '_i27',\n",
       " '_i28',\n",
       " '_i3',\n",
       " '_i4',\n",
       " '_i5',\n",
       " '_i6',\n",
       " '_i7',\n",
       " '_i8',\n",
       " '_i9',\n",
       " '_ih',\n",
       " '_ii',\n",
       " '_iii',\n",
       " '_oh',\n",
       " 'add_two',\n",
       " 'b',\n",
       " 'b_add_two',\n",
       " 'exit',\n",
       " 'floating_number',\n",
       " 'get_ipython',\n",
       " 'greeting',\n",
       " 'i',\n",
       " 'integer',\n",
       " 'quit',\n",
       " 'returned_name',\n",
       " 'say_hi',\n",
       " 'something',\n",
       " 'text']"
      ]
     },
     "execution_count": 28,
     "metadata": {},
     "output_type": "execute_result"
    }
   ],
   "source": [
    "# the dir function gives the list of in scope variables\n",
    "dir()"
   ]
  },
  {
   "cell_type": "code",
   "execution_count": 29,
   "id": "129bdd1d",
   "metadata": {},
   "outputs": [
    {
     "data": {
      "text/plain": [
       "{'__name__': '__main__',\n",
       " '__doc__': 'Automatically created module for IPython interactive environment',\n",
       " '__package__': None,\n",
       " '__loader__': None,\n",
       " '__spec__': None,\n",
       " '__builtin__': <module 'builtins' (built-in)>,\n",
       " '__builtins__': <module 'builtins' (built-in)>,\n",
       " '_ih': ['',\n",
       "  'print(\"Hello World!\")',\n",
       "  \"# assign a variable text\\ntext = 'Hello World'\",\n",
       "  '# to find the the type of the variable\\ntype(text)',\n",
       "  '# assign an integer variable\\ninteger = 2',\n",
       "  'type(integer)',\n",
       "  '# assign an float number variable\\nfloating_number = 42.0',\n",
       "  'type(floating_number)',\n",
       "  '# reassign the variable text to a float number\\ntext = 3.0',\n",
       "  'type(text)',\n",
       "  \"# working with conditional statements\\nif 5 < 3:\\n    print('This is true')\\nelse:\\n     print('This is not true') \",\n",
       "  \"if 3 < 5:\\n    print('This is true')\\nelse:\\n     print('This is not true') \",\n",
       "  \"# create a variable type string called something\\nsomething = 'Hello World'\",\n",
       "  \"# working with variables type none\\nif something is None:\\n    print('This is None')\\nelif type(something) is not str:\\n    print('It most be somthing else')\\nelse:\\n    print('It must be a string')\",\n",
       "  '# create a for loop range\\nfor i in range(5):\\n    print(\"Hello World\")',\n",
       "  '# create a for loop range with formatted string\\nfor i in range(5):\\n    print(f\"Hello World {i}\")\\n\\n# using the opening and closing curly brackets its called string interpolation\\n# and it means putting a variable inside the string',\n",
       "  '# create a for loop range with formatted string\\nfor i in range(5):\\n    print(f\"Hello World {i:05d}\") # using the format specifier after the colon (the symbol :)',\n",
       "  '# using while loops\\nb = 5\\nwhile b > 2:\\n    print(b)\\n    b -= 1',\n",
       "  '# define a function with no arguments\\ndef say_hi():\\n    print(\"Hello\")',\n",
       "  '# call the function created\\nsay_hi()',\n",
       "  'def greeting():\\n    name = input(\"What is your name? \") # create a local variable with data from user\\n    print(f\"Hello {name}\")\\n    return name',\n",
       "  '# create a variable to store the result of a function\\nreturned_name = greeting()',\n",
       "  'returned_name',\n",
       "  '# declare a function with an argument \\ndef add_two(variable):\\n    variable += 2\\n    return variable',\n",
       "  'b = 2',\n",
       "  'b_add_two = add_two(b)',\n",
       "  'b_add_two',\n",
       "  'b',\n",
       "  '# the dir function gives the list of in scope variables\\ndir()',\n",
       "  '# gives a dictionary of global variables\\nglobals()'],\n",
       " '_oh': {3: str,\n",
       "  5: int,\n",
       "  7: float,\n",
       "  9: float,\n",
       "  22: 'Carlos',\n",
       "  26: 4,\n",
       "  27: 2,\n",
       "  28: ['In',\n",
       "   'Out',\n",
       "   '_',\n",
       "   '_22',\n",
       "   '_26',\n",
       "   '_27',\n",
       "   '_3',\n",
       "   '_5',\n",
       "   '_7',\n",
       "   '_9',\n",
       "   '__',\n",
       "   '___',\n",
       "   '__builtin__',\n",
       "   '__builtins__',\n",
       "   '__doc__',\n",
       "   '__loader__',\n",
       "   '__name__',\n",
       "   '__package__',\n",
       "   '__spec__',\n",
       "   '_dh',\n",
       "   '_i',\n",
       "   '_i1',\n",
       "   '_i10',\n",
       "   '_i11',\n",
       "   '_i12',\n",
       "   '_i13',\n",
       "   '_i14',\n",
       "   '_i15',\n",
       "   '_i16',\n",
       "   '_i17',\n",
       "   '_i18',\n",
       "   '_i19',\n",
       "   '_i2',\n",
       "   '_i20',\n",
       "   '_i21',\n",
       "   '_i22',\n",
       "   '_i23',\n",
       "   '_i24',\n",
       "   '_i25',\n",
       "   '_i26',\n",
       "   '_i27',\n",
       "   '_i28',\n",
       "   '_i3',\n",
       "   '_i4',\n",
       "   '_i5',\n",
       "   '_i6',\n",
       "   '_i7',\n",
       "   '_i8',\n",
       "   '_i9',\n",
       "   '_ih',\n",
       "   '_ii',\n",
       "   '_iii',\n",
       "   '_oh',\n",
       "   'add_two',\n",
       "   'b',\n",
       "   'b_add_two',\n",
       "   'exit',\n",
       "   'floating_number',\n",
       "   'get_ipython',\n",
       "   'greeting',\n",
       "   'i',\n",
       "   'integer',\n",
       "   'quit',\n",
       "   'returned_name',\n",
       "   'say_hi',\n",
       "   'something',\n",
       "   'text']},\n",
       " '_dh': [WindowsPath('C:/Users/Carlos Alves/Development/Scientific-Python-Course')],\n",
       " 'In': ['',\n",
       "  'print(\"Hello World!\")',\n",
       "  \"# assign a variable text\\ntext = 'Hello World'\",\n",
       "  '# to find the the type of the variable\\ntype(text)',\n",
       "  '# assign an integer variable\\ninteger = 2',\n",
       "  'type(integer)',\n",
       "  '# assign an float number variable\\nfloating_number = 42.0',\n",
       "  'type(floating_number)',\n",
       "  '# reassign the variable text to a float number\\ntext = 3.0',\n",
       "  'type(text)',\n",
       "  \"# working with conditional statements\\nif 5 < 3:\\n    print('This is true')\\nelse:\\n     print('This is not true') \",\n",
       "  \"if 3 < 5:\\n    print('This is true')\\nelse:\\n     print('This is not true') \",\n",
       "  \"# create a variable type string called something\\nsomething = 'Hello World'\",\n",
       "  \"# working with variables type none\\nif something is None:\\n    print('This is None')\\nelif type(something) is not str:\\n    print('It most be somthing else')\\nelse:\\n    print('It must be a string')\",\n",
       "  '# create a for loop range\\nfor i in range(5):\\n    print(\"Hello World\")',\n",
       "  '# create a for loop range with formatted string\\nfor i in range(5):\\n    print(f\"Hello World {i}\")\\n\\n# using the opening and closing curly brackets its called string interpolation\\n# and it means putting a variable inside the string',\n",
       "  '# create a for loop range with formatted string\\nfor i in range(5):\\n    print(f\"Hello World {i:05d}\") # using the format specifier after the colon (the symbol :)',\n",
       "  '# using while loops\\nb = 5\\nwhile b > 2:\\n    print(b)\\n    b -= 1',\n",
       "  '# define a function with no arguments\\ndef say_hi():\\n    print(\"Hello\")',\n",
       "  '# call the function created\\nsay_hi()',\n",
       "  'def greeting():\\n    name = input(\"What is your name? \") # create a local variable with data from user\\n    print(f\"Hello {name}\")\\n    return name',\n",
       "  '# create a variable to store the result of a function\\nreturned_name = greeting()',\n",
       "  'returned_name',\n",
       "  '# declare a function with an argument \\ndef add_two(variable):\\n    variable += 2\\n    return variable',\n",
       "  'b = 2',\n",
       "  'b_add_two = add_two(b)',\n",
       "  'b_add_two',\n",
       "  'b',\n",
       "  '# the dir function gives the list of in scope variables\\ndir()',\n",
       "  '# gives a dictionary of global variables\\nglobals()'],\n",
       " 'Out': {3: str,\n",
       "  5: int,\n",
       "  7: float,\n",
       "  9: float,\n",
       "  22: 'Carlos',\n",
       "  26: 4,\n",
       "  27: 2,\n",
       "  28: ['In',\n",
       "   'Out',\n",
       "   '_',\n",
       "   '_22',\n",
       "   '_26',\n",
       "   '_27',\n",
       "   '_3',\n",
       "   '_5',\n",
       "   '_7',\n",
       "   '_9',\n",
       "   '__',\n",
       "   '___',\n",
       "   '__builtin__',\n",
       "   '__builtins__',\n",
       "   '__doc__',\n",
       "   '__loader__',\n",
       "   '__name__',\n",
       "   '__package__',\n",
       "   '__spec__',\n",
       "   '_dh',\n",
       "   '_i',\n",
       "   '_i1',\n",
       "   '_i10',\n",
       "   '_i11',\n",
       "   '_i12',\n",
       "   '_i13',\n",
       "   '_i14',\n",
       "   '_i15',\n",
       "   '_i16',\n",
       "   '_i17',\n",
       "   '_i18',\n",
       "   '_i19',\n",
       "   '_i2',\n",
       "   '_i20',\n",
       "   '_i21',\n",
       "   '_i22',\n",
       "   '_i23',\n",
       "   '_i24',\n",
       "   '_i25',\n",
       "   '_i26',\n",
       "   '_i27',\n",
       "   '_i28',\n",
       "   '_i3',\n",
       "   '_i4',\n",
       "   '_i5',\n",
       "   '_i6',\n",
       "   '_i7',\n",
       "   '_i8',\n",
       "   '_i9',\n",
       "   '_ih',\n",
       "   '_ii',\n",
       "   '_iii',\n",
       "   '_oh',\n",
       "   'add_two',\n",
       "   'b',\n",
       "   'b_add_two',\n",
       "   'exit',\n",
       "   'floating_number',\n",
       "   'get_ipython',\n",
       "   'greeting',\n",
       "   'i',\n",
       "   'integer',\n",
       "   'quit',\n",
       "   'returned_name',\n",
       "   'say_hi',\n",
       "   'something',\n",
       "   'text']},\n",
       " 'get_ipython': <bound method InteractiveShell.get_ipython of <ipykernel.zmqshell.ZMQInteractiveShell object at 0x000001B64E543520>>,\n",
       " 'exit': <IPython.core.autocall.ZMQExitAutocall at 0x1b64e543bb0>,\n",
       " 'quit': <IPython.core.autocall.ZMQExitAutocall at 0x1b64e543bb0>,\n",
       " '_': ['In',\n",
       "  'Out',\n",
       "  '_',\n",
       "  '_22',\n",
       "  '_26',\n",
       "  '_27',\n",
       "  '_3',\n",
       "  '_5',\n",
       "  '_7',\n",
       "  '_9',\n",
       "  '__',\n",
       "  '___',\n",
       "  '__builtin__',\n",
       "  '__builtins__',\n",
       "  '__doc__',\n",
       "  '__loader__',\n",
       "  '__name__',\n",
       "  '__package__',\n",
       "  '__spec__',\n",
       "  '_dh',\n",
       "  '_i',\n",
       "  '_i1',\n",
       "  '_i10',\n",
       "  '_i11',\n",
       "  '_i12',\n",
       "  '_i13',\n",
       "  '_i14',\n",
       "  '_i15',\n",
       "  '_i16',\n",
       "  '_i17',\n",
       "  '_i18',\n",
       "  '_i19',\n",
       "  '_i2',\n",
       "  '_i20',\n",
       "  '_i21',\n",
       "  '_i22',\n",
       "  '_i23',\n",
       "  '_i24',\n",
       "  '_i25',\n",
       "  '_i26',\n",
       "  '_i27',\n",
       "  '_i28',\n",
       "  '_i3',\n",
       "  '_i4',\n",
       "  '_i5',\n",
       "  '_i6',\n",
       "  '_i7',\n",
       "  '_i8',\n",
       "  '_i9',\n",
       "  '_ih',\n",
       "  '_ii',\n",
       "  '_iii',\n",
       "  '_oh',\n",
       "  'add_two',\n",
       "  'b',\n",
       "  'b_add_two',\n",
       "  'exit',\n",
       "  'floating_number',\n",
       "  'get_ipython',\n",
       "  'greeting',\n",
       "  'i',\n",
       "  'integer',\n",
       "  'quit',\n",
       "  'returned_name',\n",
       "  'say_hi',\n",
       "  'something',\n",
       "  'text'],\n",
       " '__': 2,\n",
       " '___': 4,\n",
       " '_i': '# the dir function gives the list of in scope variables\\ndir()',\n",
       " '_ii': 'b',\n",
       " '_iii': 'b_add_two',\n",
       " '_i1': 'print(\"Hello World!\")',\n",
       " '_i2': \"# assign a variable text\\ntext = 'Hello World'\",\n",
       " 'text': 3.0,\n",
       " '_i3': '# to find the the type of the variable\\ntype(text)',\n",
       " '_3': str,\n",
       " '_i4': '# assign an integer variable\\ninteger = 2',\n",
       " 'integer': 2,\n",
       " '_i5': 'type(integer)',\n",
       " '_5': int,\n",
       " '_i6': '# assign an float number variable\\nfloating_number = 42.0',\n",
       " 'floating_number': 42.0,\n",
       " '_i7': 'type(floating_number)',\n",
       " '_7': float,\n",
       " '_i8': '# reassign the variable text to a float number\\ntext = 3.0',\n",
       " '_i9': 'type(text)',\n",
       " '_9': float,\n",
       " '_i10': \"# working with conditional statements\\nif 5 < 3:\\n    print('This is true')\\nelse:\\n     print('This is not true') \",\n",
       " '_i11': \"if 3 < 5:\\n    print('This is true')\\nelse:\\n     print('This is not true') \",\n",
       " '_i12': \"# create a variable type string called something\\nsomething = 'Hello World'\",\n",
       " 'something': 'Hello World',\n",
       " '_i13': \"# working with variables type none\\nif something is None:\\n    print('This is None')\\nelif type(something) is not str:\\n    print('It most be somthing else')\\nelse:\\n    print('It must be a string')\",\n",
       " '_i14': '# create a for loop range\\nfor i in range(5):\\n    print(\"Hello World\")',\n",
       " 'i': 4,\n",
       " '_i15': '# create a for loop range with formatted string\\nfor i in range(5):\\n    print(f\"Hello World {i}\")\\n\\n# using the opening and closing curly brackets its called string interpolation\\n# and it means putting a variable inside the string',\n",
       " '_i16': '# create a for loop range with formatted string\\nfor i in range(5):\\n    print(f\"Hello World {i:05d}\") # using the format specifier after the colon (the symbol :)',\n",
       " '_i17': '# using while loops\\nb = 5\\nwhile b > 2:\\n    print(b)\\n    b -= 1',\n",
       " 'b': 2,\n",
       " '_i18': '# define a function with no arguments\\ndef say_hi():\\n    print(\"Hello\")',\n",
       " 'say_hi': <function __main__.say_hi()>,\n",
       " '_i19': '# call the function created\\nsay_hi()',\n",
       " '_i20': 'def greeting():\\n    name = input(\"What is your name? \") # create a local variable with data from user\\n    print(f\"Hello {name}\")\\n    return name',\n",
       " 'greeting': <function __main__.greeting()>,\n",
       " '_i21': '# create a variable to store the result of a function\\nreturned_name = greeting()',\n",
       " 'returned_name': 'Carlos',\n",
       " '_i22': 'returned_name',\n",
       " '_22': 'Carlos',\n",
       " '_i23': '# declare a function with an argument \\ndef add_two(variable):\\n    variable += 2\\n    return variable',\n",
       " 'add_two': <function __main__.add_two(variable)>,\n",
       " '_i24': 'b = 2',\n",
       " '_i25': 'b_add_two = add_two(b)',\n",
       " 'b_add_two': 4,\n",
       " '_i26': 'b_add_two',\n",
       " '_26': 4,\n",
       " '_i27': 'b',\n",
       " '_27': 2,\n",
       " '_i28': '# the dir function gives the list of in scope variables\\ndir()',\n",
       " '_28': ['In',\n",
       "  'Out',\n",
       "  '_',\n",
       "  '_22',\n",
       "  '_26',\n",
       "  '_27',\n",
       "  '_3',\n",
       "  '_5',\n",
       "  '_7',\n",
       "  '_9',\n",
       "  '__',\n",
       "  '___',\n",
       "  '__builtin__',\n",
       "  '__builtins__',\n",
       "  '__doc__',\n",
       "  '__loader__',\n",
       "  '__name__',\n",
       "  '__package__',\n",
       "  '__spec__',\n",
       "  '_dh',\n",
       "  '_i',\n",
       "  '_i1',\n",
       "  '_i10',\n",
       "  '_i11',\n",
       "  '_i12',\n",
       "  '_i13',\n",
       "  '_i14',\n",
       "  '_i15',\n",
       "  '_i16',\n",
       "  '_i17',\n",
       "  '_i18',\n",
       "  '_i19',\n",
       "  '_i2',\n",
       "  '_i20',\n",
       "  '_i21',\n",
       "  '_i22',\n",
       "  '_i23',\n",
       "  '_i24',\n",
       "  '_i25',\n",
       "  '_i26',\n",
       "  '_i27',\n",
       "  '_i28',\n",
       "  '_i3',\n",
       "  '_i4',\n",
       "  '_i5',\n",
       "  '_i6',\n",
       "  '_i7',\n",
       "  '_i8',\n",
       "  '_i9',\n",
       "  '_ih',\n",
       "  '_ii',\n",
       "  '_iii',\n",
       "  '_oh',\n",
       "  'add_two',\n",
       "  'b',\n",
       "  'b_add_two',\n",
       "  'exit',\n",
       "  'floating_number',\n",
       "  'get_ipython',\n",
       "  'greeting',\n",
       "  'i',\n",
       "  'integer',\n",
       "  'quit',\n",
       "  'returned_name',\n",
       "  'say_hi',\n",
       "  'something',\n",
       "  'text'],\n",
       " '_i29': '# gives a dictionary of global variables\\nglobals()'}"
      ]
     },
     "execution_count": 29,
     "metadata": {},
     "output_type": "execute_result"
    }
   ],
   "source": [
    "# gives a dictionary of global variables\n",
    "globals()"
   ]
  },
  {
   "cell_type": "code",
   "execution_count": 30,
   "id": "9bf4fdc2",
   "metadata": {},
   "outputs": [
    {
     "name": "stdout",
     "output_type": "stream",
     "text": [
      "Variable          Type        Data/Info\n",
      "---------------------------------------\n",
      "add_two           function    <function add_two at 0x000001B64F5CF160>\n",
      "b                 int         2\n",
      "b_add_two         int         4\n",
      "floating_number   float       42.0\n",
      "greeting          function    <function greeting at 0x000001B64F5C78B0>\n",
      "i                 int         4\n",
      "integer           int         2\n",
      "returned_name     str         Carlos\n",
      "say_hi            function    <function say_hi at 0x000001B64F5C70D0>\n",
      "something         str         Hello World\n",
      "text              float       3.0\n"
     ]
    }
   ],
   "source": [
    "# use the whos magic to get more details about the variables\n",
    "%whos"
   ]
  },
  {
   "cell_type": "code",
   "execution_count": 31,
   "id": "f1935be7",
   "metadata": {},
   "outputs": [],
   "source": [
    "# declare a function with more than one argument\n",
    "def add_up_variables(var_1, var_2, var_3):\n",
    "    return var_1+var_2+var_3"
   ]
  },
  {
   "cell_type": "code",
   "execution_count": 32,
   "id": "3193a9e9",
   "metadata": {},
   "outputs": [
    {
     "data": {
      "text/plain": [
       "6"
      ]
     },
     "execution_count": 32,
     "metadata": {},
     "output_type": "execute_result"
    }
   ],
   "source": [
    "add_up_variables(1,2,3)"
   ]
  },
  {
   "cell_type": "code",
   "execution_count": 33,
   "id": "cc9b5936",
   "metadata": {},
   "outputs": [],
   "source": [
    "# the arguments of this function are called positional arguments\n",
    "def print_strings(first,second):\n",
    "    print(f\"{first}_{second}\")"
   ]
  },
  {
   "cell_type": "code",
   "execution_count": 34,
   "id": "a37a957e",
   "metadata": {},
   "outputs": [
    {
     "name": "stdout",
     "output_type": "stream",
     "text": [
      "Hello_World\n"
     ]
    }
   ],
   "source": [
    "print_strings(\"Hello\",\"World\")"
   ]
  },
  {
   "cell_type": "code",
   "execution_count": 35,
   "id": "91eb716d",
   "metadata": {},
   "outputs": [
    {
     "name": "stdout",
     "output_type": "stream",
     "text": [
      "Hello_World\n"
     ]
    }
   ],
   "source": [
    "# using keyword arguments with functions we always have to match that\n",
    "# when we call a function we need to match the function signature\n",
    "# the function signature is basically the function name plus the arguments\n",
    "print_strings(second=\"World\", first=\"Hello\")"
   ]
  },
  {
   "cell_type": "code",
   "execution_count": 36,
   "id": "165abdb9",
   "metadata": {},
   "outputs": [
    {
     "name": "stdout",
     "output_type": "stream",
     "text": [
      "Hello_World\n"
     ]
    }
   ],
   "source": [
    "# we can use this arguments following the order as positional arguments\n",
    "print_strings(\"Hello\", second=\"World\")"
   ]
  },
  {
   "cell_type": "code",
   "execution_count": 37,
   "id": "9ee6d6a5",
   "metadata": {},
   "outputs": [],
   "source": [
    "# but we cannot do this:\n",
    "# print_strings(first=\"Hello\", world)"
   ]
  },
  {
   "cell_type": "code",
   "execution_count": 38,
   "id": "ee0b24c7",
   "metadata": {},
   "outputs": [],
   "source": [
    "# python has an option to use infinite amount of variables input\n",
    "# and its called arcs structure\n",
    "# this functions basically say it takes one position argument and its called args\n",
    "# it takes a large number of additional unspecified number of positional arguments\n",
    "# and it takes an unspecified number of keyword arguments\n",
    "def print_additional_args(regular, *args, **kwargs):\n",
    "    print(regular)\n",
    "    print(args)\n",
    "    print(kwargs)"
   ]
  },
  {
   "cell_type": "code",
   "execution_count": 39,
   "id": "e6357eb4",
   "metadata": {},
   "outputs": [
    {
     "name": "stdout",
     "output_type": "stream",
     "text": [
      "3.0\n",
      "()\n",
      "{}\n"
     ]
    }
   ],
   "source": [
    "# using the arcs structure we can use only one argument\n",
    "print_additional_args(3.0)"
   ]
  },
  {
   "cell_type": "code",
   "execution_count": 40,
   "id": "e66317e9",
   "metadata": {},
   "outputs": [],
   "source": [
    "# 3.0 is a regular argument\n",
    "# () its called a tuple\n",
    "# {} its called a dictionary"
   ]
  },
  {
   "cell_type": "code",
   "execution_count": 41,
   "id": "89904add",
   "metadata": {},
   "outputs": [
    {
     "name": "stdout",
     "output_type": "stream",
     "text": [
      "Python Course\n",
      "(2, 42, [5.0, 8.0])\n",
      "{'something': True, 'something_else': False}\n"
     ]
    }
   ],
   "source": [
    "# using lots of arguments\n",
    "print_additional_args(\"Python Course\", 2, 42, [5.0, 8.0], something=True, something_else=False)"
   ]
  },
  {
   "cell_type": "code",
   "execution_count": 42,
   "id": "96bc5703",
   "metadata": {},
   "outputs": [],
   "source": [
    "# create a function type hinting\n",
    "# the parameter input_str it's type string and this function returns a string\n",
    "def type_hinted_function(input_str: str) -> str:\n",
    "    modified_str = f\"Hello {input_str}\"\n",
    "    return modified_str"
   ]
  },
  {
   "cell_type": "code",
   "execution_count": 43,
   "id": "13d2af93",
   "metadata": {},
   "outputs": [
    {
     "data": {
      "text/plain": [
       "'Hello World'"
      ]
     },
     "execution_count": 43,
     "metadata": {},
     "output_type": "execute_result"
    }
   ],
   "source": [
    "type_hinted_function(\"World\")"
   ]
  },
  {
   "cell_type": "code",
   "execution_count": 44,
   "id": "a85f1442",
   "metadata": {},
   "outputs": [
    {
     "data": {
      "text/plain": [
       "'Hello 52'"
      ]
     },
     "execution_count": 44,
     "metadata": {},
     "output_type": "execute_result"
    }
   ],
   "source": [
    "type_hinted_function(52)"
   ]
  },
  {
   "cell_type": "code",
   "execution_count": 45,
   "id": "0da92e48",
   "metadata": {},
   "outputs": [],
   "source": [
    "# create a list of fruits\n",
    "my_favorite_fruits = [\"apple\",\"banana\",\"kiwi\"]"
   ]
  },
  {
   "cell_type": "code",
   "execution_count": 46,
   "id": "95984273",
   "metadata": {},
   "outputs": [
    {
     "data": {
      "text/plain": [
       "['apple', 'banana', 'kiwi']"
      ]
     },
     "execution_count": 46,
     "metadata": {},
     "output_type": "execute_result"
    }
   ],
   "source": [
    "my_favorite_fruits"
   ]
  },
  {
   "cell_type": "code",
   "execution_count": 47,
   "id": "9cdf2ee6",
   "metadata": {},
   "outputs": [
    {
     "data": {
      "text/plain": [
       "'apple'"
      ]
     },
     "execution_count": 47,
     "metadata": {},
     "output_type": "execute_result"
    }
   ],
   "source": [
    "# access the list of fruits\n",
    "my_favorite_fruits[0]"
   ]
  },
  {
   "cell_type": "code",
   "execution_count": 48,
   "id": "784f265d",
   "metadata": {},
   "outputs": [],
   "source": [
    "# create a list of vegetables\n",
    "my_favorite_vegetables = [\"tomato\",\" potato\"]"
   ]
  },
  {
   "cell_type": "code",
   "execution_count": 49,
   "id": "af5f0d20",
   "metadata": {},
   "outputs": [
    {
     "data": {
      "text/plain": [
       "['tomato', ' potato']"
      ]
     },
     "execution_count": 49,
     "metadata": {},
     "output_type": "execute_result"
    }
   ],
   "source": [
    "my_favorite_vegetables"
   ]
  },
  {
   "cell_type": "code",
   "execution_count": 50,
   "id": "c4d35c42",
   "metadata": {},
   "outputs": [],
   "source": [
    "# create a list from fruits and vegetables\n",
    "# it will concatenate these two lists\n",
    "my_favorites = my_favorite_fruits + my_favorite_vegetables"
   ]
  },
  {
   "cell_type": "code",
   "execution_count": 51,
   "id": "580833e0",
   "metadata": {},
   "outputs": [
    {
     "data": {
      "text/plain": [
       "['apple', 'banana', 'kiwi', 'tomato', ' potato']"
      ]
     },
     "execution_count": 51,
     "metadata": {},
     "output_type": "execute_result"
    }
   ],
   "source": [
    "my_favorites"
   ]
  },
  {
   "cell_type": "code",
   "execution_count": 52,
   "id": "1f195048",
   "metadata": {},
   "outputs": [
    {
     "data": {
      "text/plain": [
       "5"
      ]
     },
     "execution_count": 52,
     "metadata": {},
     "output_type": "execute_result"
    }
   ],
   "source": [
    "# using the lenght function\n",
    "len(my_favorites)"
   ]
  },
  {
   "cell_type": "code",
   "execution_count": 53,
   "id": "fb3a4d36",
   "metadata": {},
   "outputs": [],
   "source": [
    "# adding a new element to the list of vegetables\n",
    "my_favorite_vegetables.append(\"cucumber\")"
   ]
  },
  {
   "cell_type": "code",
   "execution_count": 54,
   "id": "acbbd01f",
   "metadata": {},
   "outputs": [
    {
     "data": {
      "text/plain": [
       "['tomato', ' potato', 'cucumber']"
      ]
     },
     "execution_count": 54,
     "metadata": {},
     "output_type": "execute_result"
    }
   ],
   "source": [
    "my_favorite_vegetables"
   ]
  },
  {
   "cell_type": "code",
   "execution_count": 55,
   "id": "77158399",
   "metadata": {},
   "outputs": [],
   "source": [
    "# create a list holding multiple things\n",
    "some_variables_I_like = [\"Hello Wolrd\", 42, 3.141, None, True]"
   ]
  },
  {
   "cell_type": "code",
   "execution_count": 56,
   "id": "ce68bf00",
   "metadata": {},
   "outputs": [],
   "source": [
    " # create a dictionary of opinions on fruits\n",
    "opinions_on_fruits = {\n",
    "    \"apple\": \"Sour and Crunchy\",\n",
    "    \"banana\": \"Sweet and Yellow\",\n",
    "    \"kiwi\": \"Intense and sweet\"\n",
    "}"
   ]
  },
  {
   "cell_type": "code",
   "execution_count": 57,
   "id": "6f3b9349",
   "metadata": {},
   "outputs": [
    {
     "data": {
      "text/plain": [
       "{'apple': 'Sour and Crunchy',\n",
       " 'banana': 'Sweet and Yellow',\n",
       " 'kiwi': 'Intense and sweet'}"
      ]
     },
     "execution_count": 57,
     "metadata": {},
     "output_type": "execute_result"
    }
   ],
   "source": [
    " opinions_on_fruits"
   ]
  },
  {
   "cell_type": "code",
   "execution_count": 58,
   "id": "95e9898d",
   "metadata": {},
   "outputs": [
    {
     "data": {
      "text/plain": [
       "'Sweet and Yellow'"
      ]
     },
     "execution_count": 58,
     "metadata": {},
     "output_type": "execute_result"
    }
   ],
   "source": [
    "# print the value a specific key in the dictionary\n",
    "opinions_on_fruits[\"banana\"]"
   ]
  },
  {
   "cell_type": "code",
   "execution_count": 59,
   "id": "9186a716",
   "metadata": {},
   "outputs": [],
   "source": [
    "# created a nested dictionary\n",
    "options = {\n",
    "    \"solver\": {\n",
    "        \"type\": \"rk45\",\n",
    "        \"rtol\": 1.0e-4, # this scientific notation for an exponential and this means by 1.02 \n",
    "        # times 10 to the minus 4 so it's 0.0001\n",
    "        \"atol\": 1.0e-4, # atol means absolute tolerance and rtol means relative tolorance\n",
    "    },\n",
    "    \"saveat\": [0.0, 0.1, 0.2, 0.3, 0.4]\n",
    "}"
   ]
  },
  {
   "cell_type": "code",
   "execution_count": 60,
   "id": "819237ea",
   "metadata": {},
   "outputs": [
    {
     "data": {
      "text/plain": [
       "{'solver': {'type': 'rk45', 'rtol': 0.0001, 'atol': 0.0001},\n",
       " 'saveat': [0.0, 0.1, 0.2, 0.3, 0.4]}"
      ]
     },
     "execution_count": 60,
     "metadata": {},
     "output_type": "execute_result"
    }
   ],
   "source": [
    "options"
   ]
  },
  {
   "cell_type": "code",
   "execution_count": 61,
   "id": "888babcc",
   "metadata": {},
   "outputs": [],
   "source": [
    "# adding a new key to the dictionary options\n",
    "options[\"speed\"] = \"fast\"\n",
    "# note if the key doesn't exists it will create a new key\n",
    "# but if the exists it will replace the value of the key"
   ]
  },
  {
   "cell_type": "code",
   "execution_count": 62,
   "id": "d6f6288c",
   "metadata": {},
   "outputs": [],
   "source": [
    "# create a tuple\n",
    "a_tuple = (1,2,3)"
   ]
  },
  {
   "cell_type": "code",
   "execution_count": 63,
   "id": "33287f4b",
   "metadata": {},
   "outputs": [
    {
     "data": {
      "text/plain": [
       "(1, 2, 3)"
      ]
     },
     "execution_count": 63,
     "metadata": {},
     "output_type": "execute_result"
    }
   ],
   "source": [
    "a_tuple"
   ]
  },
  {
   "cell_type": "code",
   "execution_count": 64,
   "id": "e8731907",
   "metadata": {},
   "outputs": [],
   "source": [
    "# tuple are fixed size array and they are different from the list\n",
    "# because we cannot append a new element or remove an element"
   ]
  },
  {
   "cell_type": "code",
   "execution_count": 65,
   "id": "ceef8a70",
   "metadata": {},
   "outputs": [],
   "source": [
    " # create a set of mixed datatypes\n",
    "a = {\"Python\", 3, (21,42)}"
   ]
  },
  {
   "cell_type": "code",
   "execution_count": 66,
   "id": "03db1584",
   "metadata": {},
   "outputs": [
    {
     "data": {
      "text/plain": [
       "{(21, 42), 3, 'Python'}"
      ]
     },
     "execution_count": 66,
     "metadata": {},
     "output_type": "execute_result"
    }
   ],
   "source": [
    "a"
   ]
  },
  {
   "cell_type": "code",
   "execution_count": 67,
   "id": "0926e08d",
   "metadata": {},
   "outputs": [],
   "source": [
    "# create list of favorite fruits\n",
    "favorite_fruits = [\"apple\",\"banana\",\"kiwi\"]"
   ]
  },
  {
   "cell_type": "code",
   "execution_count": 68,
   "id": "6a156c75",
   "metadata": {},
   "outputs": [
    {
     "name": "stdout",
     "output_type": "stream",
     "text": [
      "Rank: 0: apple\n",
      "Rank: 1: banana\n",
      "Rank: 2: kiwi\n"
     ]
    }
   ],
   "source": [
    "# using the function enumerate to iterate over the position\n",
    "for position, fruit in enumerate(favorite_fruits):\n",
    "    print(f\"Rank: {position}: {fruit}\")"
   ]
  },
  {
   "cell_type": "code",
   "execution_count": 69,
   "id": "12ad9da2",
   "metadata": {},
   "outputs": [
    {
     "name": "stdout",
     "output_type": "stream",
     "text": [
      "About apple someone thinks Sour and Crunchy\n",
      "About banana someone thinks Sweet and Yellow\n",
      "About kiwi someone thinks Intense and sweet\n"
     ]
    }
   ],
   "source": [
    "# iterate over the dictionary of favorite fruits\n",
    "for key, value in opinions_on_fruits.items(): # using items() means we use key and value\n",
    "    print(f\"About {key} someone thinks {value}\")"
   ]
  },
  {
   "cell_type": "code",
   "execution_count": 70,
   "id": "e413179e",
   "metadata": {},
   "outputs": [
    {
     "data": {
      "text/plain": [
       "range(0, 5)"
      ]
     },
     "execution_count": 70,
     "metadata": {},
     "output_type": "execute_result"
    }
   ],
   "source": [
    "# create an iterable object using the range function\n",
    "range(5)"
   ]
  },
  {
   "cell_type": "code",
   "execution_count": 71,
   "id": "a6b64cde",
   "metadata": {},
   "outputs": [
    {
     "data": {
      "text/plain": [
       "[0, 1, 2, 3, 4]"
      ]
     },
     "execution_count": 71,
     "metadata": {},
     "output_type": "execute_result"
    }
   ],
   "source": [
    "# convert the iterable object to a list\n",
    "list(range(5))"
   ]
  },
  {
   "cell_type": "code",
   "execution_count": 72,
   "id": "59a701f2",
   "metadata": {},
   "outputs": [],
   "source": [
    "# using the lambda function\n",
    "# its the same creating a function but without a name\n",
    "# lambda its called anonymous function\n",
    "f = lambda x: x**2\n",
    "# x its the parameter and after the semicolon its the body of the function"
   ]
  },
  {
   "cell_type": "code",
   "execution_count": 73,
   "id": "9675f45c",
   "metadata": {},
   "outputs": [
    {
     "data": {
      "text/plain": [
       "4"
      ]
     },
     "execution_count": 73,
     "metadata": {},
     "output_type": "execute_result"
    }
   ],
   "source": [
    "f(2)"
   ]
  },
  {
   "cell_type": "code",
   "execution_count": 74,
   "id": "4b0dcd9d",
   "metadata": {},
   "outputs": [],
   "source": [
    "# create a list of strings with wrong capitalization\n",
    "wrong_capitalization = [\"bANana\",\"APPLE\"] "
   ]
  },
  {
   "cell_type": "code",
   "execution_count": 75,
   "id": "7fb41fa3",
   "metadata": {},
   "outputs": [
    {
     "data": {
      "text/plain": [
       "['bANana', 'APPLE']"
      ]
     },
     "execution_count": 75,
     "metadata": {},
     "output_type": "execute_result"
    }
   ],
   "source": [
    "wrong_capitalization"
   ]
  },
  {
   "cell_type": "code",
   "execution_count": 76,
   "id": "04ed0eab",
   "metadata": {},
   "outputs": [],
   "source": [
    "# using the functionality mapping\n",
    "# and its a way to apply a function to each of the elements in a list\n",
    "# so it maps out the function application to all of it\n",
    "correct_capitalization = list(map(lambda x: x.capitalize(), wrong_capitalization))"
   ]
  },
  {
   "cell_type": "code",
   "execution_count": 77,
   "id": "755d720e",
   "metadata": {},
   "outputs": [
    {
     "data": {
      "text/plain": [
       "['Banana', 'Apple']"
      ]
     },
     "execution_count": 77,
     "metadata": {},
     "output_type": "execute_result"
    }
   ],
   "source": [
    "correct_capitalization"
   ]
  },
  {
   "cell_type": "code",
   "execution_count": 78,
   "id": "ede29b68",
   "metadata": {},
   "outputs": [],
   "source": [
    "# recommend method to the above with list comprehension\n",
    "correct_capitalization_2 = [x.capitalize() for x in wrong_capitalization]"
   ]
  },
  {
   "cell_type": "code",
   "execution_count": 79,
   "id": "060baf6f",
   "metadata": {},
   "outputs": [
    {
     "data": {
      "text/plain": [
       "['Banana', 'Apple']"
      ]
     },
     "execution_count": 79,
     "metadata": {},
     "output_type": "execute_result"
    }
   ],
   "source": [
    "correct_capitalization_2"
   ]
  },
  {
   "cell_type": "code",
   "execution_count": 80,
   "id": "9f02b50d",
   "metadata": {},
   "outputs": [],
   "source": [
    "import numpy as np"
   ]
  },
  {
   "cell_type": "code",
   "execution_count": 82,
   "id": "8f50254f",
   "metadata": {},
   "outputs": [],
   "source": [
    "# create a numpy array\n",
    "first_array = np.array([1,2,3])"
   ]
  },
  {
   "cell_type": "code",
   "execution_count": 83,
   "id": "e38211a0",
   "metadata": {},
   "outputs": [],
   "source": [
    "# NumPy arrays are faster and more compact than Python lists. \n",
    "# An array consumes less memory and is convenient to use. \n",
    "# NumPy uses much less memory to store data and it provides a mechanism of specifying the data types"
   ]
  },
  {
   "cell_type": "code",
   "execution_count": null,
   "id": "03ca1a39",
   "metadata": {},
   "outputs": [],
   "source": [
    "first_array"
   ]
  }
 ],
 "metadata": {
  "kernelspec": {
   "display_name": "Python 3 (ipykernel)",
   "language": "python",
   "name": "python3"
  },
  "language_info": {
   "codemirror_mode": {
    "name": "ipython",
    "version": 3
   },
   "file_extension": ".py",
   "mimetype": "text/x-python",
   "name": "python",
   "nbconvert_exporter": "python",
   "pygments_lexer": "ipython3",
   "version": "3.9.12"
  }
 },
 "nbformat": 4,
 "nbformat_minor": 5
}
