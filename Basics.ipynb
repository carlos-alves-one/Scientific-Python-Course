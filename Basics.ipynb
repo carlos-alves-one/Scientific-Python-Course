{
 "cells": [
  {
   "cell_type": "markdown",
   "id": "a440e052",
   "metadata": {},
   "source": [
    "## Goldsmiths University of London\n",
    "**Author....: Carlos Manuel de Oliveira Alves**<br>\n",
    "**Student..: cdeol003**<br>\n",
    "**Created..: 19/07/2022**"
   ]
  },
  {
   "cell_type": "code",
   "execution_count": 2,
   "id": "bf3229f9",
   "metadata": {},
   "outputs": [
    {
     "name": "stdout",
     "output_type": "stream",
     "text": [
      "Hello World!\n"
     ]
    }
   ],
   "source": [
    "print(\"Hello World!\")"
   ]
  },
  {
   "cell_type": "markdown",
   "id": "f27da198",
   "metadata": {},
   "source": [
    "# This is a markdown cell\n",
    "\n",
    "with e.g. (abbreviation for example) Latex\n",
    "\n",
    "$f(x) = \\sqrt(x)$"
   ]
  },
  {
   "cell_type": "code",
   "execution_count": 1,
   "id": "2eb0197e",
   "metadata": {},
   "outputs": [],
   "source": [
    "# assign a variable text\n",
    "text = 'Hello World'"
   ]
  },
  {
   "cell_type": "code",
   "execution_count": 2,
   "id": "e5c01d09",
   "metadata": {},
   "outputs": [
    {
     "data": {
      "text/plain": [
       "str"
      ]
     },
     "execution_count": 2,
     "metadata": {},
     "output_type": "execute_result"
    }
   ],
   "source": [
    "# to find the the type of the variable\n",
    "type(text)"
   ]
  },
  {
   "cell_type": "code",
   "execution_count": 3,
   "id": "fecae052",
   "metadata": {},
   "outputs": [],
   "source": [
    "# assign an integer variable\n",
    "integer = 2"
   ]
  },
  {
   "cell_type": "code",
   "execution_count": 4,
   "id": "be57f23e",
   "metadata": {},
   "outputs": [
    {
     "data": {
      "text/plain": [
       "int"
      ]
     },
     "execution_count": 4,
     "metadata": {},
     "output_type": "execute_result"
    }
   ],
   "source": [
    "type(integer)"
   ]
  },
  {
   "cell_type": "code",
   "execution_count": 5,
   "id": "8b0e4497",
   "metadata": {},
   "outputs": [],
   "source": [
    "# assign an float number variable\n",
    "floating_number = 42.0"
   ]
  },
  {
   "cell_type": "code",
   "execution_count": 6,
   "id": "d238331a",
   "metadata": {},
   "outputs": [
    {
     "data": {
      "text/plain": [
       "float"
      ]
     },
     "execution_count": 6,
     "metadata": {},
     "output_type": "execute_result"
    }
   ],
   "source": [
    "type(floating_number)"
   ]
  },
  {
   "cell_type": "code",
   "execution_count": 7,
   "id": "8a905a6b",
   "metadata": {},
   "outputs": [],
   "source": [
    "# reassign the variable text to a float number\n",
    "text = 3.0"
   ]
  },
  {
   "cell_type": "code",
   "execution_count": 8,
   "id": "a47792ea",
   "metadata": {},
   "outputs": [
    {
     "data": {
      "text/plain": [
       "float"
      ]
     },
     "execution_count": 8,
     "metadata": {},
     "output_type": "execute_result"
    }
   ],
   "source": [
    "type(text)"
   ]
  },
  {
   "cell_type": "code",
   "execution_count": 9,
   "id": "e6a845d0",
   "metadata": {},
   "outputs": [
    {
     "name": "stdout",
     "output_type": "stream",
     "text": [
      "This is not true\n"
     ]
    }
   ],
   "source": [
    "# working with conditional statements\n",
    "if 5 < 3:\n",
    "    print('This is true')\n",
    "else:\n",
    "     print('This is not true') "
   ]
  },
  {
   "cell_type": "code",
   "execution_count": 10,
   "id": "3c70756a",
   "metadata": {},
   "outputs": [
    {
     "name": "stdout",
     "output_type": "stream",
     "text": [
      "This is true\n"
     ]
    }
   ],
   "source": [
    "if 3 < 5:\n",
    "    print('This is true')\n",
    "else:\n",
    "     print('This is not true') "
   ]
  },
  {
   "cell_type": "code",
   "execution_count": 11,
   "id": "64ecf2a5",
   "metadata": {},
   "outputs": [],
   "source": [
    "# create a variable type string called something\n",
    "something = 'Hello World'"
   ]
  },
  {
   "cell_type": "code",
   "execution_count": null,
   "id": "1e17c425",
   "metadata": {},
   "outputs": [],
   "source": [
    "# working with variables type none\n",
    "if something is None:\n",
    "    print('This is None')\n",
    "elif type(something) is not str:\n",
    "    print('It most be somthing else')\n"
   ]
  }
 ],
 "metadata": {
  "kernelspec": {
   "display_name": "Python 3 (ipykernel)",
   "language": "python",
   "name": "python3"
  },
  "language_info": {
   "codemirror_mode": {
    "name": "ipython",
    "version": 3
   },
   "file_extension": ".py",
   "mimetype": "text/x-python",
   "name": "python",
   "nbconvert_exporter": "python",
   "pygments_lexer": "ipython3",
   "version": "3.9.12"
  }
 },
 "nbformat": 4,
 "nbformat_minor": 5
}
