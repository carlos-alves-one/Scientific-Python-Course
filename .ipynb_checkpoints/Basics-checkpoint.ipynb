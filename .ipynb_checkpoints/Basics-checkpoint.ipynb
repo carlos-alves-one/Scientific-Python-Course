{
 "cells": [
  {
   "cell_type": "markdown",
   "id": "a440e052",
   "metadata": {},
   "source": [
    "## Goldsmiths University of London\n",
    "**Author....: Carlos Manuel de Oliveira Alves**<br>\n",
    "**Student..: cdeol003**<br>\n",
    "**Created..: 19/07/2022**"
   ]
  },
  {
   "cell_type": "code",
   "execution_count": 1,
   "id": "bf3229f9",
   "metadata": {},
   "outputs": [
    {
     "name": "stdout",
     "output_type": "stream",
     "text": [
      "Hello World!\n"
     ]
    }
   ],
   "source": [
    "print(\"Hello World!\")"
   ]
  },
  {
   "cell_type": "markdown",
   "id": "f27da198",
   "metadata": {},
   "source": [
    "# This is a markdown cell\n",
    "\n",
    "with e.g. (abbreviation for example) Latex\n",
    "\n",
    "$f(x) = \\sqrt(x)$"
   ]
  },
  {
   "cell_type": "code",
   "execution_count": 2,
   "id": "2eb0197e",
   "metadata": {},
   "outputs": [],
   "source": [
    "# assign a variable text\n",
    "text = 'Hello World'"
   ]
  },
  {
   "cell_type": "code",
   "execution_count": 3,
   "id": "a175efab",
   "metadata": {},
   "outputs": [
    {
     "data": {
      "text/plain": [
       "str"
      ]
     },
     "execution_count": 3,
     "metadata": {},
     "output_type": "execute_result"
    }
   ],
   "source": [
    "# to find the the type of the variable\n",
    "type(text)"
   ]
  },
  {
   "cell_type": "code",
   "execution_count": 4,
   "id": "e18b2ab1",
   "metadata": {},
   "outputs": [],
   "source": [
    "# assign an integer variable\n",
    "integer = 2"
   ]
  },
  {
   "cell_type": "code",
   "execution_count": 5,
   "id": "98da205a",
   "metadata": {},
   "outputs": [
    {
     "data": {
      "text/plain": [
       "int"
      ]
     },
     "execution_count": 5,
     "metadata": {},
     "output_type": "execute_result"
    }
   ],
   "source": [
    "type(integer)"
   ]
  },
  {
   "cell_type": "code",
   "execution_count": 6,
   "id": "7554df73",
   "metadata": {},
   "outputs": [],
   "source": [
    "# assign an float number variable\n",
    "floating_number = 42.0"
   ]
  },
  {
   "cell_type": "code",
   "execution_count": 7,
   "id": "01faea14",
   "metadata": {},
   "outputs": [
    {
     "data": {
      "text/plain": [
       "float"
      ]
     },
     "execution_count": 7,
     "metadata": {},
     "output_type": "execute_result"
    }
   ],
   "source": [
    "type(floating_number)"
   ]
  },
  {
   "cell_type": "code",
   "execution_count": 8,
   "id": "4144012a",
   "metadata": {},
   "outputs": [],
   "source": [
    "# reassign the variable text to a float number\n",
    "text = 3.0"
   ]
  },
  {
   "cell_type": "code",
   "execution_count": 9,
   "id": "67af5dd3",
   "metadata": {},
   "outputs": [
    {
     "data": {
      "text/plain": [
       "float"
      ]
     },
     "execution_count": 9,
     "metadata": {},
     "output_type": "execute_result"
    }
   ],
   "source": [
    "type(text)"
   ]
  },
  {
   "cell_type": "code",
   "execution_count": 10,
   "id": "5b973318",
   "metadata": {},
   "outputs": [
    {
     "name": "stdout",
     "output_type": "stream",
     "text": [
      "This is not true\n"
     ]
    }
   ],
   "source": [
    "# working with conditional statements\n",
    "if 5 < 3:\n",
    "    print('This is true')\n",
    "else:\n",
    "     print('This is not true') "
   ]
  },
  {
   "cell_type": "code",
   "execution_count": 11,
   "id": "00adc4e3",
   "metadata": {},
   "outputs": [
    {
     "name": "stdout",
     "output_type": "stream",
     "text": [
      "This is true\n"
     ]
    }
   ],
   "source": [
    "if 3 < 5:\n",
    "    print('This is true')\n",
    "else:\n",
    "     print('This is not true') "
   ]
  },
  {
   "cell_type": "code",
   "execution_count": 12,
   "id": "a77a4244",
   "metadata": {},
   "outputs": [],
   "source": [
    "# create a variable type string called something\n",
    "something = 'Hello World'"
   ]
  },
  {
   "cell_type": "code",
   "execution_count": 13,
   "id": "5e5464c7",
   "metadata": {},
   "outputs": [
    {
     "name": "stdout",
     "output_type": "stream",
     "text": [
      "It must be a string\n"
     ]
    }
   ],
   "source": [
    "# working with variables type none\n",
    "if something is None:\n",
    "    print('This is None')\n",
    "elif type(something) is not str:\n",
    "    print('It most be somthing else')\n",
    "else:\n",
    "    print('It must be a string')"
   ]
  },
  {
   "cell_type": "code",
   "execution_count": 14,
   "id": "08ace298",
   "metadata": {},
   "outputs": [
    {
     "name": "stdout",
     "output_type": "stream",
     "text": [
      "Hello World\n",
      "Hello World\n",
      "Hello World\n",
      "Hello World\n",
      "Hello World\n"
     ]
    }
   ],
   "source": [
    "# create a for loop range\n",
    "for i in range(5):\n",
    "    print(\"Hello World\")"
   ]
  },
  {
   "cell_type": "code",
   "execution_count": 15,
   "id": "d7821574",
   "metadata": {},
   "outputs": [
    {
     "name": "stdout",
     "output_type": "stream",
     "text": [
      "Hello World 0\n",
      "Hello World 1\n",
      "Hello World 2\n",
      "Hello World 3\n",
      "Hello World 4\n"
     ]
    }
   ],
   "source": [
    "# create a for loop range with formatted string\n",
    "for i in range(5):\n",
    "    print(f\"Hello World {i}\")\n",
    "\n",
    "# using the opening and closing curly brackets its called string interpolation\n",
    "# and it means putting a variable inside the string"
   ]
  },
  {
   "cell_type": "code",
   "execution_count": 16,
   "id": "12335036",
   "metadata": {},
   "outputs": [
    {
     "name": "stdout",
     "output_type": "stream",
     "text": [
      "Hello World 00000\n",
      "Hello World 00001\n",
      "Hello World 00002\n",
      "Hello World 00003\n",
      "Hello World 00004\n"
     ]
    }
   ],
   "source": [
    "# create a for loop range with formatted string\n",
    "for i in range(5):\n",
    "    print(f\"Hello World {i:05d}\") # using the format specifier after the colon (the symbol :)"
   ]
  },
  {
   "cell_type": "code",
   "execution_count": 17,
   "id": "8811a719",
   "metadata": {},
   "outputs": [
    {
     "name": "stdout",
     "output_type": "stream",
     "text": [
      "5\n",
      "4\n",
      "3\n"
     ]
    }
   ],
   "source": [
    "# using while loops\n",
    "b = 5\n",
    "while b > 2:\n",
    "    print(b)\n",
    "    b -= 1"
   ]
  },
  {
   "cell_type": "code",
   "execution_count": 18,
   "id": "41f85176",
   "metadata": {},
   "outputs": [],
   "source": [
    "# define a function with no arguments\n",
    "def say_hi():\n",
    "    print(\"Hello\")"
   ]
  },
  {
   "cell_type": "code",
   "execution_count": 19,
   "id": "5f1ad505",
   "metadata": {},
   "outputs": [
    {
     "name": "stdout",
     "output_type": "stream",
     "text": [
      "Hello\n"
     ]
    }
   ],
   "source": [
    "# call the function created\n",
    "say_hi()"
   ]
  },
  {
   "cell_type": "code",
   "execution_count": 20,
   "id": "8f106236",
   "metadata": {},
   "outputs": [],
   "source": [
    "def greeting():\n",
    "    name = input(\"What is your name? \") # create a local variable with data from user\n",
    "    print(f\"Hello {name}\")\n",
    "    return name"
   ]
  },
  {
   "cell_type": "code",
   "execution_count": 21,
   "id": "e4282a7c",
   "metadata": {},
   "outputs": [
    {
     "name": "stdout",
     "output_type": "stream",
     "text": [
      "What is your name? Carlos\n",
      "Hello Carlos\n"
     ]
    }
   ],
   "source": [
    "# create a variable to store the result of a function\n",
    "returned_name = greeting()"
   ]
  },
  {
   "cell_type": "code",
   "execution_count": 22,
   "id": "2f764060",
   "metadata": {},
   "outputs": [
    {
     "data": {
      "text/plain": [
       "'Carlos'"
      ]
     },
     "execution_count": 22,
     "metadata": {},
     "output_type": "execute_result"
    }
   ],
   "source": [
    "returned_name"
   ]
  },
  {
   "cell_type": "code",
   "execution_count": 23,
   "id": "21678a7b",
   "metadata": {},
   "outputs": [],
   "source": [
    "# declare a function with an argument \n",
    "def add_two(variable):\n",
    "    variable += 2\n",
    "    return variable"
   ]
  },
  {
   "cell_type": "code",
   "execution_count": 24,
   "id": "3467734c",
   "metadata": {},
   "outputs": [],
   "source": [
    "b = 2"
   ]
  },
  {
   "cell_type": "code",
   "execution_count": 26,
   "id": "3db4c49b",
   "metadata": {},
   "outputs": [],
   "source": [
    "b_add_two = add_two(b)"
   ]
  },
  {
   "cell_type": "code",
   "execution_count": 27,
   "id": "e5a78aaa",
   "metadata": {},
   "outputs": [
    {
     "data": {
      "text/plain": [
       "4"
      ]
     },
     "execution_count": 27,
     "metadata": {},
     "output_type": "execute_result"
    }
   ],
   "source": [
    "b_add_two"
   ]
  },
  {
   "cell_type": "code",
   "execution_count": 28,
   "id": "08d3aa8a",
   "metadata": {},
   "outputs": [
    {
     "data": {
      "text/plain": [
       "2"
      ]
     },
     "execution_count": 28,
     "metadata": {},
     "output_type": "execute_result"
    }
   ],
   "source": [
    "b"
   ]
  },
  {
   "cell_type": "code",
   "execution_count": 30,
   "id": "79b96a74",
   "metadata": {},
   "outputs": [
    {
     "data": {
      "text/plain": [
       "['In',\n",
       " 'Out',\n",
       " '_',\n",
       " '_22',\n",
       " '_27',\n",
       " '_28',\n",
       " '_29',\n",
       " '_3',\n",
       " '_5',\n",
       " '_7',\n",
       " '_9',\n",
       " '__',\n",
       " '___',\n",
       " '__builtin__',\n",
       " '__builtins__',\n",
       " '__doc__',\n",
       " '__loader__',\n",
       " '__name__',\n",
       " '__package__',\n",
       " '__spec__',\n",
       " '_dh',\n",
       " '_i',\n",
       " '_i1',\n",
       " '_i10',\n",
       " '_i11',\n",
       " '_i12',\n",
       " '_i13',\n",
       " '_i14',\n",
       " '_i15',\n",
       " '_i16',\n",
       " '_i17',\n",
       " '_i18',\n",
       " '_i19',\n",
       " '_i2',\n",
       " '_i20',\n",
       " '_i21',\n",
       " '_i22',\n",
       " '_i23',\n",
       " '_i24',\n",
       " '_i25',\n",
       " '_i26',\n",
       " '_i27',\n",
       " '_i28',\n",
       " '_i29',\n",
       " '_i3',\n",
       " '_i30',\n",
       " '_i4',\n",
       " '_i5',\n",
       " '_i6',\n",
       " '_i7',\n",
       " '_i8',\n",
       " '_i9',\n",
       " '_ih',\n",
       " '_ii',\n",
       " '_iii',\n",
       " '_oh',\n",
       " 'add_two',\n",
       " 'b',\n",
       " 'b_add_two',\n",
       " 'exit',\n",
       " 'floating_number',\n",
       " 'get_ipython',\n",
       " 'greeting',\n",
       " 'i',\n",
       " 'integer',\n",
       " 'quit',\n",
       " 'returned_name',\n",
       " 'say_hi',\n",
       " 'something',\n",
       " 'text']"
      ]
     },
     "execution_count": 30,
     "metadata": {},
     "output_type": "execute_result"
    }
   ],
   "source": [
    "# the dir function gives the list of in scope variables\n",
    "dir()"
   ]
  },
  {
   "cell_type": "code",
   "execution_count": 32,
   "id": "02c73f97",
   "metadata": {},
   "outputs": [
    {
     "data": {
      "text/plain": [
       "{'__name__': '__main__',\n",
       " '__doc__': 'Automatically created module for IPython interactive environment',\n",
       " '__package__': None,\n",
       " '__loader__': None,\n",
       " '__spec__': None,\n",
       " '__builtin__': <module 'builtins' (built-in)>,\n",
       " '__builtins__': <module 'builtins' (built-in)>,\n",
       " '_ih': ['',\n",
       "  'print(\"Hello World!\")',\n",
       "  \"# assign a variable text\\ntext = 'Hello World'\",\n",
       "  '# to find the the type of the variable\\ntype(text)',\n",
       "  '# assign an integer variable\\ninteger = 2',\n",
       "  'type(integer)',\n",
       "  '# assign an float number variable\\nfloating_number = 42.0',\n",
       "  'type(floating_number)',\n",
       "  '# reassign the variable text to a float number\\ntext = 3.0',\n",
       "  'type(text)',\n",
       "  \"# working with conditional statements\\nif 5 < 3:\\n    print('This is true')\\nelse:\\n     print('This is not true') \",\n",
       "  \"if 3 < 5:\\n    print('This is true')\\nelse:\\n     print('This is not true') \",\n",
       "  \"# create a variable type string called something\\nsomething = 'Hello World'\",\n",
       "  \"# working with variables type none\\nif something is None:\\n    print('This is None')\\nelif type(something) is not str:\\n    print('It most be somthing else')\\nelse:\\n    print('It must be a string')\",\n",
       "  '# create a for loop range\\nfor i in range(5):\\n    print(\"Hello World\")',\n",
       "  '# create a for loop range with formatted string\\nfor i in range(5):\\n    print(f\"Hello World {i}\")\\n\\n# using the opening and closing curly brackets its called string interpolation\\n# and it means putting a variable inside the string',\n",
       "  '# create a for loop range with formatted string\\nfor i in range(5):\\n    print(f\"Hello World {i:05d}\") # using the format specifier after the colon (the symbol :)',\n",
       "  '# using while loops\\nb = 5\\nwhile b > 2:\\n    print(b)\\n    b -= 1',\n",
       "  '# define a function with no arguments\\ndef say_hi():\\n    print(\"Hello\")',\n",
       "  '# call the function created\\nsay_hi()',\n",
       "  'def greeting():\\n    name = input(\"What is your name? \") # create a local variable with data from user\\n    print(f\"Hello {name}\")\\n    return name',\n",
       "  '# create a variable to store the result of a function\\nreturned_name = greeting()',\n",
       "  'returned_name',\n",
       "  '# declare a function with an argument \\ndef add_two(variable):\\n    variable += 2\\n    return variable',\n",
       "  'b = 2',\n",
       "  'b_add_two - add_two(b)',\n",
       "  'b_add_two = add_two(b)',\n",
       "  'b_add_two',\n",
       "  'b',\n",
       "  'dir',\n",
       "  'dir()',\n",
       "  'global()',\n",
       "  'globals()'],\n",
       " '_oh': {3: str,\n",
       "  5: int,\n",
       "  7: float,\n",
       "  9: float,\n",
       "  22: 'Carlos',\n",
       "  27: 4,\n",
       "  28: 2,\n",
       "  29: <function dir>,\n",
       "  30: ['In',\n",
       "   'Out',\n",
       "   '_',\n",
       "   '_22',\n",
       "   '_27',\n",
       "   '_28',\n",
       "   '_29',\n",
       "   '_3',\n",
       "   '_5',\n",
       "   '_7',\n",
       "   '_9',\n",
       "   '__',\n",
       "   '___',\n",
       "   '__builtin__',\n",
       "   '__builtins__',\n",
       "   '__doc__',\n",
       "   '__loader__',\n",
       "   '__name__',\n",
       "   '__package__',\n",
       "   '__spec__',\n",
       "   '_dh',\n",
       "   '_i',\n",
       "   '_i1',\n",
       "   '_i10',\n",
       "   '_i11',\n",
       "   '_i12',\n",
       "   '_i13',\n",
       "   '_i14',\n",
       "   '_i15',\n",
       "   '_i16',\n",
       "   '_i17',\n",
       "   '_i18',\n",
       "   '_i19',\n",
       "   '_i2',\n",
       "   '_i20',\n",
       "   '_i21',\n",
       "   '_i22',\n",
       "   '_i23',\n",
       "   '_i24',\n",
       "   '_i25',\n",
       "   '_i26',\n",
       "   '_i27',\n",
       "   '_i28',\n",
       "   '_i29',\n",
       "   '_i3',\n",
       "   '_i30',\n",
       "   '_i4',\n",
       "   '_i5',\n",
       "   '_i6',\n",
       "   '_i7',\n",
       "   '_i8',\n",
       "   '_i9',\n",
       "   '_ih',\n",
       "   '_ii',\n",
       "   '_iii',\n",
       "   '_oh',\n",
       "   'add_two',\n",
       "   'b',\n",
       "   'b_add_two',\n",
       "   'exit',\n",
       "   'floating_number',\n",
       "   'get_ipython',\n",
       "   'greeting',\n",
       "   'i',\n",
       "   'integer',\n",
       "   'quit',\n",
       "   'returned_name',\n",
       "   'say_hi',\n",
       "   'something',\n",
       "   'text']},\n",
       " '_dh': [WindowsPath('C:/Users/Carlos Alves/Development/Scientific-Python-Course')],\n",
       " 'In': ['',\n",
       "  'print(\"Hello World!\")',\n",
       "  \"# assign a variable text\\ntext = 'Hello World'\",\n",
       "  '# to find the the type of the variable\\ntype(text)',\n",
       "  '# assign an integer variable\\ninteger = 2',\n",
       "  'type(integer)',\n",
       "  '# assign an float number variable\\nfloating_number = 42.0',\n",
       "  'type(floating_number)',\n",
       "  '# reassign the variable text to a float number\\ntext = 3.0',\n",
       "  'type(text)',\n",
       "  \"# working with conditional statements\\nif 5 < 3:\\n    print('This is true')\\nelse:\\n     print('This is not true') \",\n",
       "  \"if 3 < 5:\\n    print('This is true')\\nelse:\\n     print('This is not true') \",\n",
       "  \"# create a variable type string called something\\nsomething = 'Hello World'\",\n",
       "  \"# working with variables type none\\nif something is None:\\n    print('This is None')\\nelif type(something) is not str:\\n    print('It most be somthing else')\\nelse:\\n    print('It must be a string')\",\n",
       "  '# create a for loop range\\nfor i in range(5):\\n    print(\"Hello World\")',\n",
       "  '# create a for loop range with formatted string\\nfor i in range(5):\\n    print(f\"Hello World {i}\")\\n\\n# using the opening and closing curly brackets its called string interpolation\\n# and it means putting a variable inside the string',\n",
       "  '# create a for loop range with formatted string\\nfor i in range(5):\\n    print(f\"Hello World {i:05d}\") # using the format specifier after the colon (the symbol :)',\n",
       "  '# using while loops\\nb = 5\\nwhile b > 2:\\n    print(b)\\n    b -= 1',\n",
       "  '# define a function with no arguments\\ndef say_hi():\\n    print(\"Hello\")',\n",
       "  '# call the function created\\nsay_hi()',\n",
       "  'def greeting():\\n    name = input(\"What is your name? \") # create a local variable with data from user\\n    print(f\"Hello {name}\")\\n    return name',\n",
       "  '# create a variable to store the result of a function\\nreturned_name = greeting()',\n",
       "  'returned_name',\n",
       "  '# declare a function with an argument \\ndef add_two(variable):\\n    variable += 2\\n    return variable',\n",
       "  'b = 2',\n",
       "  'b_add_two - add_two(b)',\n",
       "  'b_add_two = add_two(b)',\n",
       "  'b_add_two',\n",
       "  'b',\n",
       "  'dir',\n",
       "  'dir()',\n",
       "  'global()',\n",
       "  'globals()'],\n",
       " 'Out': {3: str,\n",
       "  5: int,\n",
       "  7: float,\n",
       "  9: float,\n",
       "  22: 'Carlos',\n",
       "  27: 4,\n",
       "  28: 2,\n",
       "  29: <function dir>,\n",
       "  30: ['In',\n",
       "   'Out',\n",
       "   '_',\n",
       "   '_22',\n",
       "   '_27',\n",
       "   '_28',\n",
       "   '_29',\n",
       "   '_3',\n",
       "   '_5',\n",
       "   '_7',\n",
       "   '_9',\n",
       "   '__',\n",
       "   '___',\n",
       "   '__builtin__',\n",
       "   '__builtins__',\n",
       "   '__doc__',\n",
       "   '__loader__',\n",
       "   '__name__',\n",
       "   '__package__',\n",
       "   '__spec__',\n",
       "   '_dh',\n",
       "   '_i',\n",
       "   '_i1',\n",
       "   '_i10',\n",
       "   '_i11',\n",
       "   '_i12',\n",
       "   '_i13',\n",
       "   '_i14',\n",
       "   '_i15',\n",
       "   '_i16',\n",
       "   '_i17',\n",
       "   '_i18',\n",
       "   '_i19',\n",
       "   '_i2',\n",
       "   '_i20',\n",
       "   '_i21',\n",
       "   '_i22',\n",
       "   '_i23',\n",
       "   '_i24',\n",
       "   '_i25',\n",
       "   '_i26',\n",
       "   '_i27',\n",
       "   '_i28',\n",
       "   '_i29',\n",
       "   '_i3',\n",
       "   '_i30',\n",
       "   '_i4',\n",
       "   '_i5',\n",
       "   '_i6',\n",
       "   '_i7',\n",
       "   '_i8',\n",
       "   '_i9',\n",
       "   '_ih',\n",
       "   '_ii',\n",
       "   '_iii',\n",
       "   '_oh',\n",
       "   'add_two',\n",
       "   'b',\n",
       "   'b_add_two',\n",
       "   'exit',\n",
       "   'floating_number',\n",
       "   'get_ipython',\n",
       "   'greeting',\n",
       "   'i',\n",
       "   'integer',\n",
       "   'quit',\n",
       "   'returned_name',\n",
       "   'say_hi',\n",
       "   'something',\n",
       "   'text']},\n",
       " 'get_ipython': <bound method InteractiveShell.get_ipython of <ipykernel.zmqshell.ZMQInteractiveShell object at 0x0000027BAA772520>>,\n",
       " 'exit': <IPython.core.autocall.ZMQExitAutocall at 0x27baa772bb0>,\n",
       " 'quit': <IPython.core.autocall.ZMQExitAutocall at 0x27baa772bb0>,\n",
       " '_': ['In',\n",
       "  'Out',\n",
       "  '_',\n",
       "  '_22',\n",
       "  '_27',\n",
       "  '_28',\n",
       "  '_29',\n",
       "  '_3',\n",
       "  '_5',\n",
       "  '_7',\n",
       "  '_9',\n",
       "  '__',\n",
       "  '___',\n",
       "  '__builtin__',\n",
       "  '__builtins__',\n",
       "  '__doc__',\n",
       "  '__loader__',\n",
       "  '__name__',\n",
       "  '__package__',\n",
       "  '__spec__',\n",
       "  '_dh',\n",
       "  '_i',\n",
       "  '_i1',\n",
       "  '_i10',\n",
       "  '_i11',\n",
       "  '_i12',\n",
       "  '_i13',\n",
       "  '_i14',\n",
       "  '_i15',\n",
       "  '_i16',\n",
       "  '_i17',\n",
       "  '_i18',\n",
       "  '_i19',\n",
       "  '_i2',\n",
       "  '_i20',\n",
       "  '_i21',\n",
       "  '_i22',\n",
       "  '_i23',\n",
       "  '_i24',\n",
       "  '_i25',\n",
       "  '_i26',\n",
       "  '_i27',\n",
       "  '_i28',\n",
       "  '_i29',\n",
       "  '_i3',\n",
       "  '_i30',\n",
       "  '_i4',\n",
       "  '_i5',\n",
       "  '_i6',\n",
       "  '_i7',\n",
       "  '_i8',\n",
       "  '_i9',\n",
       "  '_ih',\n",
       "  '_ii',\n",
       "  '_iii',\n",
       "  '_oh',\n",
       "  'add_two',\n",
       "  'b',\n",
       "  'b_add_two',\n",
       "  'exit',\n",
       "  'floating_number',\n",
       "  'get_ipython',\n",
       "  'greeting',\n",
       "  'i',\n",
       "  'integer',\n",
       "  'quit',\n",
       "  'returned_name',\n",
       "  'say_hi',\n",
       "  'something',\n",
       "  'text'],\n",
       " '__': <function dir>,\n",
       " '___': 2,\n",
       " '_i': 'global()',\n",
       " '_ii': 'dir()',\n",
       " '_iii': 'dir',\n",
       " '_i1': 'print(\"Hello World!\")',\n",
       " '_i2': \"# assign a variable text\\ntext = 'Hello World'\",\n",
       " 'text': 3.0,\n",
       " '_i3': '# to find the the type of the variable\\ntype(text)',\n",
       " '_3': str,\n",
       " '_i4': '# assign an integer variable\\ninteger = 2',\n",
       " 'integer': 2,\n",
       " '_i5': 'type(integer)',\n",
       " '_5': int,\n",
       " '_i6': '# assign an float number variable\\nfloating_number = 42.0',\n",
       " 'floating_number': 42.0,\n",
       " '_i7': 'type(floating_number)',\n",
       " '_7': float,\n",
       " '_i8': '# reassign the variable text to a float number\\ntext = 3.0',\n",
       " '_i9': 'type(text)',\n",
       " '_9': float,\n",
       " '_i10': \"# working with conditional statements\\nif 5 < 3:\\n    print('This is true')\\nelse:\\n     print('This is not true') \",\n",
       " '_i11': \"if 3 < 5:\\n    print('This is true')\\nelse:\\n     print('This is not true') \",\n",
       " '_i12': \"# create a variable type string called something\\nsomething = 'Hello World'\",\n",
       " 'something': 'Hello World',\n",
       " '_i13': \"# working with variables type none\\nif something is None:\\n    print('This is None')\\nelif type(something) is not str:\\n    print('It most be somthing else')\\nelse:\\n    print('It must be a string')\",\n",
       " '_i14': '# create a for loop range\\nfor i in range(5):\\n    print(\"Hello World\")',\n",
       " 'i': 4,\n",
       " '_i15': '# create a for loop range with formatted string\\nfor i in range(5):\\n    print(f\"Hello World {i}\")\\n\\n# using the opening and closing curly brackets its called string interpolation\\n# and it means putting a variable inside the string',\n",
       " '_i16': '# create a for loop range with formatted string\\nfor i in range(5):\\n    print(f\"Hello World {i:05d}\") # using the format specifier after the colon (the symbol :)',\n",
       " '_i17': '# using while loops\\nb = 5\\nwhile b > 2:\\n    print(b)\\n    b -= 1',\n",
       " 'b': 2,\n",
       " '_i18': '# define a function with no arguments\\ndef say_hi():\\n    print(\"Hello\")',\n",
       " 'say_hi': <function __main__.say_hi()>,\n",
       " '_i19': '# call the function created\\nsay_hi()',\n",
       " '_i20': 'def greeting():\\n    name = input(\"What is your name? \") # create a local variable with data from user\\n    print(f\"Hello {name}\")\\n    return name',\n",
       " 'greeting': <function __main__.greeting()>,\n",
       " '_i21': '# create a variable to store the result of a function\\nreturned_name = greeting()',\n",
       " 'returned_name': 'Carlos',\n",
       " '_i22': 'returned_name',\n",
       " '_22': 'Carlos',\n",
       " '_i23': '# declare a function with an argument \\ndef add_two(variable):\\n    variable += 2\\n    return variable',\n",
       " 'add_two': <function __main__.add_two(variable)>,\n",
       " '_i24': 'b = 2',\n",
       " '_i25': 'b_add_two - add_two(b)',\n",
       " '_i26': 'b_add_two = add_two(b)',\n",
       " 'b_add_two': 4,\n",
       " '_i27': 'b_add_two',\n",
       " '_27': 4,\n",
       " '_i28': 'b',\n",
       " '_28': 2,\n",
       " '_i29': 'dir',\n",
       " '_29': <function dir>,\n",
       " '_i30': 'dir()',\n",
       " '_30': ['In',\n",
       "  'Out',\n",
       "  '_',\n",
       "  '_22',\n",
       "  '_27',\n",
       "  '_28',\n",
       "  '_29',\n",
       "  '_3',\n",
       "  '_5',\n",
       "  '_7',\n",
       "  '_9',\n",
       "  '__',\n",
       "  '___',\n",
       "  '__builtin__',\n",
       "  '__builtins__',\n",
       "  '__doc__',\n",
       "  '__loader__',\n",
       "  '__name__',\n",
       "  '__package__',\n",
       "  '__spec__',\n",
       "  '_dh',\n",
       "  '_i',\n",
       "  '_i1',\n",
       "  '_i10',\n",
       "  '_i11',\n",
       "  '_i12',\n",
       "  '_i13',\n",
       "  '_i14',\n",
       "  '_i15',\n",
       "  '_i16',\n",
       "  '_i17',\n",
       "  '_i18',\n",
       "  '_i19',\n",
       "  '_i2',\n",
       "  '_i20',\n",
       "  '_i21',\n",
       "  '_i22',\n",
       "  '_i23',\n",
       "  '_i24',\n",
       "  '_i25',\n",
       "  '_i26',\n",
       "  '_i27',\n",
       "  '_i28',\n",
       "  '_i29',\n",
       "  '_i3',\n",
       "  '_i30',\n",
       "  '_i4',\n",
       "  '_i5',\n",
       "  '_i6',\n",
       "  '_i7',\n",
       "  '_i8',\n",
       "  '_i9',\n",
       "  '_ih',\n",
       "  '_ii',\n",
       "  '_iii',\n",
       "  '_oh',\n",
       "  'add_two',\n",
       "  'b',\n",
       "  'b_add_two',\n",
       "  'exit',\n",
       "  'floating_number',\n",
       "  'get_ipython',\n",
       "  'greeting',\n",
       "  'i',\n",
       "  'integer',\n",
       "  'quit',\n",
       "  'returned_name',\n",
       "  'say_hi',\n",
       "  'something',\n",
       "  'text'],\n",
       " '_i31': 'global()',\n",
       " '_i32': 'globals()'}"
      ]
     },
     "execution_count": 32,
     "metadata": {},
     "output_type": "execute_result"
    }
   ],
   "source": [
    "# gives a dictionary of global variables\n",
    "globals()"
   ]
  },
  {
   "cell_type": "code",
   "execution_count": 33,
   "id": "1b1cb7ce",
   "metadata": {},
   "outputs": [
    {
     "name": "stdout",
     "output_type": "stream",
     "text": [
      "Variable          Type        Data/Info\n",
      "---------------------------------------\n",
      "add_two           function    <function add_two at 0x0000027BAB7F8700>\n",
      "b                 int         2\n",
      "b_add_two         int         4\n",
      "floating_number   float       42.0\n",
      "greeting          function    <function greeting at 0x0000027BAB7F0670>\n",
      "i                 int         4\n",
      "integer           int         2\n",
      "returned_name     str         Carlos\n",
      "say_hi            function    <function say_hi at 0x0000027BAB7F0160>\n",
      "something         str         Hello World\n",
      "text              float       3.0\n"
     ]
    }
   ],
   "source": [
    "# use the whos magic to get more details about the variables\n",
    "whos"
   ]
  },
  {
   "cell_type": "code",
   "execution_count": 34,
   "id": "75e59f6a",
   "metadata": {},
   "outputs": [
    {
     "name": "stdout",
     "output_type": "stream",
     "text": [
      "Variable          Type        Data/Info\n",
      "---------------------------------------\n",
      "add_two           function    <function add_two at 0x0000027BAB7F8700>\n",
      "b                 int         2\n",
      "b_add_two         int         4\n",
      "floating_number   float       42.0\n",
      "greeting          function    <function greeting at 0x0000027BAB7F0670>\n",
      "i                 int         4\n",
      "integer           int         2\n",
      "returned_name     str         Carlos\n",
      "say_hi            function    <function say_hi at 0x0000027BAB7F0160>\n",
      "something         str         Hello World\n",
      "text              float       3.0\n"
     ]
    }
   ],
   "source": [
    "# using the percent symbol\n",
    "%whos"
   ]
  },
  {
   "cell_type": "code",
   "execution_count": 35,
   "id": "96545e80",
   "metadata": {},
   "outputs": [],
   "source": [
    "# declare a function with more than one argument\n",
    "def add_up_variables(var_1, var_2, var_3):\n",
    "    return var_1+var_2+var_3"
   ]
  },
  {
   "cell_type": "code",
   "execution_count": null,
   "id": "972a3f60",
   "metadata": {},
   "outputs": [],
   "source": [
    "add_up_variables(1,2,3)"
   ]
  }
 ],
 "metadata": {
  "kernelspec": {
   "display_name": "Python 3 (ipykernel)",
   "language": "python",
   "name": "python3"
  },
  "language_info": {
   "codemirror_mode": {
    "name": "ipython",
    "version": 3
   },
   "file_extension": ".py",
   "mimetype": "text/x-python",
   "name": "python",
   "nbconvert_exporter": "python",
   "pygments_lexer": "ipython3",
   "version": "3.9.12"
  }
 },
 "nbformat": 4,
 "nbformat_minor": 5
}
