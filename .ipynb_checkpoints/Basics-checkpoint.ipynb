{
 "cells": [
  {
   "cell_type": "markdown",
   "id": "a440e052",
   "metadata": {},
   "source": [
    "## Goldsmiths University of London\n",
    "**Author....: Carlos Manuel de Oliveira Alves**<br>\n",
    "**Student..: cdeol003**<br>\n",
    "**Created..: 19/07/2022**"
   ]
  },
  {
   "cell_type": "code",
   "execution_count": 2,
   "id": "bf3229f9",
   "metadata": {},
   "outputs": [
    {
     "name": "stdout",
     "output_type": "stream",
     "text": [
      "Hello World!\n"
     ]
    }
   ],
   "source": [
    "print(\"Hello World!\")"
   ]
  },
  {
   "cell_type": "markdown",
   "id": "f27da198",
   "metadata": {},
   "source": [
    "# This is a markdown cell\n",
    "\n",
    "with e.g. (abbreviation for example) Latex\n",
    "\n",
    "$f(x) = \\sqrt(x)$"
   ]
  },
  {
   "cell_type": "code",
   "execution_count": 1,
   "id": "2eb0197e",
   "metadata": {},
   "outputs": [],
   "source": [
    "# assign a variable text\n",
    "text = 'Hello World'"
   ]
  },
  {
   "cell_type": "code",
   "execution_count": 2,
   "id": "a175efab",
   "metadata": {},
   "outputs": [
    {
     "data": {
      "text/plain": [
       "str"
      ]
     },
     "execution_count": 2,
     "metadata": {},
     "output_type": "execute_result"
    }
   ],
   "source": [
    "# to find the the type of the variable\n",
    "type(text)"
   ]
  },
  {
   "cell_type": "code",
   "execution_count": 3,
   "id": "e18b2ab1",
   "metadata": {},
   "outputs": [],
   "source": [
    "# assign an integer variable\n",
    "integer = 2"
   ]
  },
  {
   "cell_type": "code",
   "execution_count": 4,
   "id": "98da205a",
   "metadata": {},
   "outputs": [
    {
     "data": {
      "text/plain": [
       "int"
      ]
     },
     "execution_count": 4,
     "metadata": {},
     "output_type": "execute_result"
    }
   ],
   "source": [
    "type(integer)"
   ]
  },
  {
   "cell_type": "code",
   "execution_count": 5,
   "id": "7554df73",
   "metadata": {},
   "outputs": [],
   "source": [
    "# assign an float number variable\n",
    "floating_number = 42.0"
   ]
  },
  {
   "cell_type": "code",
   "execution_count": 6,
   "id": "01faea14",
   "metadata": {},
   "outputs": [
    {
     "data": {
      "text/plain": [
       "float"
      ]
     },
     "execution_count": 6,
     "metadata": {},
     "output_type": "execute_result"
    }
   ],
   "source": [
    "type(floating_number)"
   ]
  },
  {
   "cell_type": "code",
   "execution_count": 7,
   "id": "4144012a",
   "metadata": {},
   "outputs": [],
   "source": [
    "# reassign the variable text to a float number\n",
    "text = 3.0"
   ]
  },
  {
   "cell_type": "code",
   "execution_count": 8,
   "id": "67af5dd3",
   "metadata": {},
   "outputs": [
    {
     "data": {
      "text/plain": [
       "float"
      ]
     },
     "execution_count": 8,
     "metadata": {},
     "output_type": "execute_result"
    }
   ],
   "source": [
    "type(text)"
   ]
  },
  {
   "cell_type": "code",
   "execution_count": 9,
   "id": "5b973318",
   "metadata": {},
   "outputs": [
    {
     "name": "stdout",
     "output_type": "stream",
     "text": [
      "This is not true\n"
     ]
    }
   ],
   "source": [
    "# working with conditional statements\n",
    "if 5 < 3:\n",
    "    print('This is true')\n",
    "else:\n",
    "     print('This is not true') "
   ]
  },
  {
   "cell_type": "code",
   "execution_count": 10,
   "id": "00adc4e3",
   "metadata": {},
   "outputs": [
    {
     "name": "stdout",
     "output_type": "stream",
     "text": [
      "This is true\n"
     ]
    }
   ],
   "source": [
    "if 3 < 5:\n",
    "    print('This is true')\n",
    "else:\n",
    "     print('This is not true') "
   ]
  },
  {
   "cell_type": "code",
   "execution_count": 11,
   "id": "a77a4244",
   "metadata": {},
   "outputs": [],
   "source": [
    "# create a variable type string called something\n",
    "something = 'Hello World'"
   ]
  },
  {
   "cell_type": "code",
   "execution_count": 13,
   "id": "5e5464c7",
   "metadata": {},
   "outputs": [
    {
     "name": "stdout",
     "output_type": "stream",
     "text": [
      "It must be a string\n"
     ]
    }
   ],
   "source": [
    "# working with variables type none\n",
    "if something is None:\n",
    "    print('This is None')\n",
    "elif type(something) is not str:\n",
    "    print('It most be somthing else')\n",
    "else:\n",
    "    print('It must be a string')"
   ]
  },
  {
   "cell_type": "code",
   "execution_count": null,
   "id": "08ace298",
   "metadata": {},
   "outputs": [],
   "source": [
    "# create a for loop range\n",
    "for i in range(5):\n",
    "    "
   ]
  }
 ],
 "metadata": {
  "kernelspec": {
   "display_name": "Python 3 (ipykernel)",
   "language": "python",
   "name": "python3"
  },
  "language_info": {
   "codemirror_mode": {
    "name": "ipython",
    "version": 3
   },
   "file_extension": ".py",
   "mimetype": "text/x-python",
   "name": "python",
   "nbconvert_exporter": "python",
   "pygments_lexer": "ipython3",
   "version": "3.9.12"
  }
 },
 "nbformat": 4,
 "nbformat_minor": 5
}
